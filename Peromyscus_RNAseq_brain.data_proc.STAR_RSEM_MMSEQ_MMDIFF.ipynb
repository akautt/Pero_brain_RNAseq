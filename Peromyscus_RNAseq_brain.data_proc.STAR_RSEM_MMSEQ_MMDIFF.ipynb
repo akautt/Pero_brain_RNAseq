{
 "cells": [
  {
   "cell_type": "markdown",
   "metadata": {},
   "source": [
    "Custom code for processing raw data, mapping, and obtaining expression and gene regulation estimates in: <br>\n",
    "\"Evolution of gene expression across brain regions in behaviorally divergent deer mice\" <br><br>\n",
    "Written by Andi Kautt in 2018/2019 <br><br>\n",
    "I highly recommend installing https://jupyter-contrib-nbextensions.readthedocs.io/en/latest/ and turning the TOC option on <br><br>\n",
    "This notebook is rather old and very bash heavy; I have since switched to doing pretty much everything in python, so this code looks a bit clunky. But it does get the job done and has very few dependencies"
   ]
  },
  {
   "cell_type": "markdown",
   "metadata": {},
   "source": [
    "### Set up working environment"
   ]
  },
  {
   "cell_type": "markdown",
   "metadata": {},
   "source": [
    "#### Import modules"
   ]
  },
  {
   "cell_type": "code",
   "execution_count": null,
   "metadata": {
    "ExecuteTime": {
     "end_time": "2023-12-13T13:44:19.685552Z",
     "start_time": "2023-12-13T13:44:19.675573Z"
    }
   },
   "outputs": [],
   "source": [
    "import sys,os,re,fnmatch"
   ]
  },
  {
   "cell_type": "markdown",
   "metadata": {},
   "source": [
    "#### Set and create main project dirs and paths"
   ]
  },
  {
   "cell_type": "code",
   "execution_count": null,
   "metadata": {
    "ExecuteTime": {
     "end_time": "2023-12-13T13:44:21.979465Z",
     "start_time": "2023-12-13T13:44:21.952756Z"
    },
    "code_folding": []
   },
   "outputs": [],
   "source": [
    "#create main dirs for project\n",
    "project_dir = '~/Peromyscus_RNAseq_brain'\n",
    "data_dir = os.path.join(project_dir,'data')\n",
    "scripts_dir = os.path.join(project_dir,'scripts')\n",
    "logs_dir = os.path.join(scripts_dir,'logs')\n",
    "list_dir = os.path.join(project_dir,'lists')\n",
    "refseq_dir = os.path.join(project_dir,'refseqs')\n",
    "\n",
    "for directory in [project_dir,data_dir,scripts_dir,logs_dir,list_dir,refseq_dir]:\n",
    "    if not os.path.exists(directory):\n",
    "        os.makedirs(directory, exists_ok=True)"
   ]
  },
  {
   "cell_type": "markdown",
   "metadata": {},
   "source": [
    "**Download reference sequences and annotations to $refseq_dir and name: <br>\n",
    "\"Pman_2.1.3.fasta\", \"Ppol_1.3.3.fasta\", \"Pman_2.1.3.gff3\", \"Ppol_1.3.3.gff3\"**"
   ]
  },
  {
   "cell_type": "code",
   "execution_count": null,
   "metadata": {
    "ExecuteTime": {
     "end_time": "2019-12-04T20:36:02.530919Z",
     "start_time": "2019-12-04T20:36:02.519332Z"
    }
   },
   "outputs": [],
   "source": [
    "# SET RAW DATA PATH and place raw data here in subfolders by region/tissue\n",
    "raw_data_dir = '' # "
   ]
  },
  {
   "cell_type": "markdown",
   "metadata": {},
   "source": [
    "#### Software/tools"
   ]
  },
  {
   "cell_type": "code",
   "execution_count": null,
   "metadata": {
    "ExecuteTime": {
     "end_time": "2023-08-28T20:56:52.456765Z",
     "start_time": "2023-08-28T20:56:52.413043Z"
    }
   },
   "outputs": [],
   "source": [
    "#Picard\n",
    "picard = '~/software/picard/build/libs'\n",
    "#cutadapt\n",
    "#cutadapt 2.3 --> installed with conda in virtual env\n",
    "#STAR v.2.7.0e\n",
    "STAR = '~/software/STAR-2.7.0e/bin/Linux_x86_64/STAR'\n",
    "#RSEM v1.3.1\n",
    "RSEM_dir = '~/software/RSEM-1.3.1'\n",
    "#mmseq 1.0.10a\n",
    "mmseq_dir = '~/software/mmseq-latest/bin'"
   ]
  },
  {
   "cell_type": "markdown",
   "metadata": {},
   "source": [
    "#### Specify tissues and create dirs\n",
    "\n",
    "NOTE: \"mPFC\" was later renamed to \"cortex\" since since exact definition / precise dissection of medial prefrontal cortex in Peromyscus difficult at the time; referring simply to \"cortex\" is more conservative"
   ]
  },
  {
   "cell_type": "code",
   "execution_count": null,
   "metadata": {
    "ExecuteTime": {
     "end_time": "2019-03-19T16:59:24.798749Z",
     "start_time": "2019-03-19T16:59:24.751469Z"
    }
   },
   "outputs": [],
   "source": [
    "tissues = [\"amygdala\",\"cerebellum\",\"hindbrain\",\"hippocampus\",\"hypothalamus\",\"midbrain\",\"mPFC\",\"septum\",\n",
    "             \"striatum\",\"thalamus\",\"wholebrain\"]\n",
    "tissue_file = os.path.join(list_dir,'tissuelist.txt')\n",
    "if not os.path.exists(tissue_file):\n",
    "    with open (tissue_file, 'w') as out_tissue_file:\n",
    "        print(*tissues, sep='\\n', file=out_tissue_file)\n",
    "\n",
    "for tissue in tissues:\n",
    "    tissue_dir = os.path.join(data_dir,tissue)\n",
    "    if not os.path.exists(tissue_dir):\n",
    "        os.mkdir(tissue_dir)"
   ]
  },
  {
   "cell_type": "markdown",
   "metadata": {},
   "source": [
    "#### Extract sample names"
   ]
  },
  {
   "cell_type": "code",
   "execution_count": null,
   "metadata": {},
   "outputs": [],
   "source": [
    "sample_names = []\n",
    "tissue_sample_dict = {}\n",
    "\n",
    "for tissue in tissues:\n",
    "    samples = []\n",
    "    tissue_data_path = os.path.join(raw_data_dir,tissue)\n",
    "    unmapped_bams = [file for file in os.listdir(tissue_data_path) if fnmatch.fnmatch(file,'*.R1.fastq.gz')]\n",
    "    for sample in unmapped_bams:\n",
    "        sample = ('_'.join(sample.split('-')[-1].split('.')[0].split('_')[:-1]))\n",
    "        if not sample in sample_names:\n",
    "            sample_names.append(sample)\n",
    "            samples.append(sample)\n",
    "    tissue_sample_dict[tissue] = samples\n",
    "\n",
    "    tissue_samplelist = os.path.join(list_dir,tissue + '.samplelist.txt')\n",
    "    if not os.path.exists(tissue_samplelist):\n",
    "        with open (tissue_samplelist, 'w') as out_tissue_samplefile:\n",
    "            print(*tissue_sample_dict[tissue], sep='\\n', file=out_tissue_samplefile)"
   ]
  },
  {
   "cell_type": "markdown",
   "metadata": {},
   "source": [
    "### Trim adapters with CUTADAPT"
   ]
  },
  {
   "cell_type": "code",
   "execution_count": null,
   "metadata": {
    "ExecuteTime": {
     "end_time": "2019-03-22T19:58:35.313241Z",
     "start_time": "2019-03-22T19:58:34.162714Z"
    }
   },
   "outputs": [],
   "source": [
    "%%script env raw_data_dir=\"$raw_data_dir\" data_dir=\"$data_dir\" scripts_dir=\"$scripts_dir\" list_dir=\"$list_dir\" bash\n",
    "\n",
    "for tissue in $(cat ${list_dir}/tissuelist.txt)\n",
    "\n",
    "do\n",
    "    input_dir=\"$raw_data_dir/${tissue}\"\n",
    "    output_dir=\"$data_dir/${tissue}\"                \n",
    "    tissue_samplelist=\"$list_dir/${tissue}.samplelist.txt\"\n",
    "\n",
    "    (\n",
    "    echo \"#!/bin/bash\"\n",
    "    echo \"#SBATCH -n 1\"\n",
    "    echo \"#SBATCH -c 1\"\n",
    "    echo \"#SBATCH -t 0-12:00\"\n",
    "    echo \"#SBATCH -p hoekstra,shared,general\"\n",
    "    echo \"#SBATCH --mem-per-cpu=100mb\"\n",
    "    echo \"#SBATCH --job-name cutadapt\"\n",
    "    echo \"#SBATCH --array 1-18%18\"\n",
    "    echo \"#SBATCH -o $scripts_dir/logs/%x_%A_%a.out\"\n",
    "    echo \"#SBATCH -e $scripts_dir/logs/%x_%A_%a.err\"\n",
    "    echo \"\"\n",
    "    printf \"module load Anaconda3; source activate py3.6_R3.5 \\n\"\n",
    "    echo \"\"\n",
    "    printf \"sample=\\$(awk -v line=\\$SLURM_ARRAY_TASK_ID 'NR==line{print \\$1; exit}' $tissue_samplelist) \\n\" \n",
    "    echo \"\"\n",
    "    printf \"if [ ! -f $output_dir/\\${sample}.R1.trimmed.fastq.gz ]; then \\n \\\n",
    "    cutadapt --cores=1 --minimum-length=25 --quality-cutoff=10 --overlap=3 \\\n",
    "    -a AGATCGGAAGAGC -A AGATCGGAAGAGC --nextseq-trim=10 \\\n",
    "    -o $output_dir/\\${sample}.R1.trimmed.fastq.gz -p $output_dir/\\${sample}.R2.trimmed.fastq.gz \\\n",
    "    $input_dir/\\${sample}.R1.fastq $input_dir/\\${sample}.R2.fastq; fi \\n\"\n",
    "    ) > ${scripts_dir}/cutadapt.${tissue}.slurm\n",
    "done\n",
    "\n",
    "sed -i 's/--array 1-18%18/--array 1-11%11/' $scripts_dir/cutadapt.wholebrain.slurm\n",
    "sed -i 's/-a AGATCGGAAGAGC -A AGATCGGAAGAGC --nextseq-trim=10/-a AAGATCGGAAGAGC -A GATCGTCGGACTGTAGAA/' $scripts_dir/cutadapt.wholebrain.slurm\n",
    "sed -i 's/R1.fastq/R1.fastq.gz/; s/R2.fastq/R2.fastq.gz/' $scripts_dir/cutadapt.wholebrain.slurm"
   ]
  },
  {
   "cell_type": "code",
   "execution_count": null,
   "metadata": {
    "ExecuteTime": {
     "end_time": "2019-03-22T19:59:20.852168Z",
     "start_time": "2019-03-22T19:58:53.517302Z"
    }
   },
   "outputs": [],
   "source": [
    "%%script env list_dir=\"$list_dir\" scripts_dir=\"$scripts_dir\" bash\n",
    "\n",
    "for tissue in $(cat ${list_dir}/tissuelist.txt)\n",
    "\n",
    "do \n",
    "    printf \"$tissue -->\\t\" >> $scripts_dir/logs/jobIDs.cutadapt.log\n",
    "    sbatch ${scripts_dir}/cutadapt.${tissue}.slurm >> $scripts_dir/logs/jobIDs.cutadapt.log\n",
    "    sleep 1\n",
    "done\n",
    "\n",
    "cat $scripts_dir/logs/jobIDs.cutadapt.log"
   ]
  },
  {
   "cell_type": "code",
   "execution_count": null,
   "metadata": {
    "ExecuteTime": {
     "end_time": "2019-03-23T15:33:04.257203Z",
     "start_time": "2019-03-23T15:33:03.913305Z"
    },
    "scrolled": true
   },
   "outputs": [],
   "source": [
    "%%script env list_dir=\"$list_dir\" scripts_dir=\"$scripts_dir\" bash\n",
    "\n",
    "sacct -j $(grep -o '[0-9]*' $scripts_dir/logs/jobIDs.cutadapt.log | paste -s -d \",\") | grep -v \"COMPLETED\""
   ]
  },
  {
   "cell_type": "markdown",
   "metadata": {},
   "source": [
    "### Create indices (reformat annotations)"
   ]
  },
  {
   "cell_type": "markdown",
   "metadata": {},
   "source": [
    "#### Add species suffix to fasta (chromosomes) and annotation (chr, ID, transcript_id, gene_id)\n"
   ]
  },
  {
   "cell_type": "code",
   "execution_count": null,
   "metadata": {
    "ExecuteTime": {
     "end_time": "2019-04-12T17:31:00.148146Z",
     "start_time": "2019-04-12T17:25:27.211451Z"
    }
   },
   "outputs": [],
   "source": [
    "%%script env refseq_dir=\"$refseq_dir\" scripts_dir=\"$scripts_dir\" list_dir=\"$list_dir\" bash\n",
    "\n",
    "if [ ! -f $refseq_dir/Pman_2.1.3.renamed_suffix.fasta ]; then\n",
    "    sed -r 's/^>([a-zA-Z0-9]+)/>\\1_BW/g' $refseq_dir/Pman_2.1.3.fasta \\\n",
    "    > $refseq_dir/Pman_2.1.3.renamed_suffix.fasta; fi\n",
    "\n",
    "if [ ! -f $refseq_dir/Ppol_1.3.3.renamed_suffix.fasta ]; then\n",
    "    sed -r 's/^>([a-zA-Z0-9]+)/>\\1_PO/g' $refseq_dir/Ppol_1.3.3.fasta \\\n",
    "    > $refseq_dir/Ppol_1.3.3.renamed_suffix.fasta; fi\n",
    "\n",
    "     \n",
    "if [ ! -f $refseq_dir/Pman_2.1.3.renamed_suffix.gff3 ]; then\n",
    "    sed -r 's/^([a-zA-Z0-9]+)/\\1_BW/g' $refseq_dir/Pman_2.1.3.gff3 \\\n",
    "    | sed -r 's/(ID=[a-zA-Z0-9:_+.-]+)/\\1_BW/g' \\\n",
    "    | sed -r 's/(transcript_id=[a-zA-Z0-9:_+.-]+)/\\1_BW/g' \\\n",
    "    | sed -r 's/(gene_id=[a-zA-Z0-9:_+.-]+)/\\1_BW/g' \\\n",
    "    | sed -r 's/(Parent=[a-zA-Z0-9:_+.-]+)/\\1_BW/g' \\\n",
    "    | sed -r 's/(Name=[a-zA-Z0-9:_+.-]+)/\\1_BW/g' \\\n",
    "    > $refseq_dir/Pman_2.1.3.renamed_suffix.gff3; fi\n",
    "    \n",
    "if [ ! -f $refseq_dir/Pman_1.3.3.renamed_suffix.gff3 ]; then\n",
    "    sed -r 's/^([a-zA-Z0-9]+)/\\1_PO/g' $refseq_dir/Ppol_1.3.3.gff3 \\\n",
    "    | sed -r 's/(ID=[a-zA-Z0-9:_+.-]+)/\\1_PO/g' \\\n",
    "    | sed -r 's/(transcript_id=[a-zA-Z0-9:_+.-]+)/\\1_PO/g' \\\n",
    "    | sed -r 's/(gene_id=[a-zA-Z0-9:_+.-]+)/\\1_PO/g' \\\n",
    "    | sed -r 's/(Parent=[a-zA-Z0-9:_+.-]+)/\\1_PO/g' \\\n",
    "    | sed -r 's/(Name=[a-zA-Z0-9:_+.-]+)/\\1_PO/g' \\\n",
    "    > $refseq_dir/Ppol_1.3.3.renamed_suffix.gff3; fi\n",
    "\n",
    "\n",
    "# concatenate both to create diploid fasta and annotation for F1s\n",
    "\n",
    "if [ ! -f $refseq_dir/Pman_2.1.3_Ppol_1.3.3.renamed_suffix.diploid.fasta ]; then\n",
    "    cat $refseq_dir/Pman_2.1.3.renamed_suffix.fasta \\\n",
    "    $refseq_dir/Ppol_1.3.3.renamed_suffix.fasta \\\n",
    "    > $refseq_dir/Pman_2.1.3_Ppol_1.3.3.renamed_suffix.diploid.fasta; fi\n",
    "    \n",
    "if [ ! -f $refseq_dir/Pman_2.1.3_Ppol_1.3.3.renamed_suffix.diploid.gff3 ]; then\n",
    "    cat $refseq_dir/Pman_2.1.3.renamed_suffix.gff3 \\\n",
    "    <(grep -v \"#\" $refseq_dir/Ppol_1.3.3.renamed_suffix.gff3) \\\n",
    "    > $refseq_dir/Pman_2.1.3_Ppol_1.3.3.renamed_suffix.diploid.gff3; fi"
   ]
  },
  {
   "cell_type": "markdown",
   "metadata": {},
   "source": [
    "#### Create RSEM indices"
   ]
  },
  {
   "cell_type": "code",
   "execution_count": null,
   "metadata": {
    "ExecuteTime": {
     "end_time": "2019-04-12T17:44:56.850220Z",
     "start_time": "2019-04-12T17:44:52.387993Z"
    }
   },
   "outputs": [],
   "source": [
    "%%script env refseq_dir=\"$refseq_dir\" scripts_dir=\"$scripts_dir\" list_dir=\"$list_dir\" RSEM_dir=\"$RSEM_dir\" bash\n",
    "\n",
    "if [ ! -d $refseq_dir/Pman_2.1.3.RSEM_gff3 ]; then\n",
    "    mkdir $refseq_dir/Pman_2.1.3.RSEM_gff3\n",
    "    mkdir $refseq_dir/Ppol_1.3.3.RSEM_gff3\n",
    "    mkdir $refseq_dir/Pman_2.1.3_Ppol_1.3.3.RSEM_gff3; fi\n",
    "\n",
    "if [ ! -f $refseq_dir/Pman_2.1.3.RSEM_gff3/Pman_2.1.3.RSEM_gff3.n2g.idx.fa ]; then\n",
    "    sbatch --mem=2gb --time=0-02:00 -p hoekstra,shared,general \\\n",
    "    --job-name \"RSEM_index\" -o $scripts_dir/logs/RSEM_index.BW.out -e $scripts_dir/logs/RSEM_index.BW.err \\\n",
    "    --wrap=\"$RSEM_dir/rsem-prepare-reference \\\n",
    "    --gff3-RNA-patterns \\\"mRNA,transcript,pseudogenic_transcript\\\" \\\n",
    "    -gff3 $refseq_dir/Pman_2.1.3.gff3 $refseq_dir/Pman_2.1.3.fasta \\\n",
    "    $refseq_dir/Pman_2.1.3.RSEM_gff3/Pman_2.1.3.RSEM_gff3\"; fi\n",
    "        \n",
    "if [ ! -f $refseq_dir/Ppol_1.3.3.RSEM_gff3/Ppol_1.3.3.RSEM_gff3.n2g.idx.fa ]; then\n",
    "    sbatch --mem=2gb --time=0-02:00 -p hoekstra,shared,general \\\n",
    "    --job-name \"RSEM_index\" -o $scripts_dir/logs/RSEM_index.PO.out -e $scripts_dir/logs/RSEM_index.PO.err \\\n",
    "    --wrap=\"$RSEM_dir/rsem-prepare-reference \\\n",
    "    --gff3-RNA-patterns \\\"mRNA,transcript,pseudogenic_transcript\\\" \\\n",
    "    -gff3 $refseq_dir/Ppol_1.3.3.gff3 $refseq_dir/Ppol_1.3.3.fasta \\\n",
    "    $refseq_dir/Ppol_1.3.3.RSEM_gff3/Ppol_1.3.3.RSEM_gff3\"; fi\n",
    "        \n",
    "if [ ! -f $refseq_dir/Pman_2.1.3_Ppol_1.3.3.RSEM_gff3/Pman_2.1.3_Ppol_1.3.3.RSEM_gff3.n2g.idx.fa ]; then\n",
    "    sbatch --mem=2gb --time=0-02:00 -p hoekstra,shared,general \\\n",
    "    --job-name \"RSEM_index\" -o $scripts_dir/logs/RSEM_index.F1.out -e $scripts_dir/logs/RSEM_index.F1.err \\\n",
    "    --wrap=\"$RSEM_dir/rsem-prepare-reference \\\n",
    "    --gff3-RNA-patterns \\\"mRNA,transcript,pseudogenic_transcript\\\" \\\n",
    "    -gff3 $refseq_dir/Pman_2.1.3_Ppol_1.3.3.renamed_suffix.diploid.gff3 $refseq_dir/Pman_2.1.3_Ppol_1.3.3.renamed_suffix.diploid.fasta \\\n",
    "    $refseq_dir/Pman_2.1.3_Ppol_1.3.3.RSEM_gff3/Pman_2.1.3_Ppol_1.3.3.RSEM_gff3\"; fi"
   ]
  },
  {
   "cell_type": "markdown",
   "metadata": {},
   "source": [
    "#### Create STAR indices"
   ]
  },
  {
   "cell_type": "code",
   "execution_count": null,
   "metadata": {
    "ExecuteTime": {
     "end_time": "2019-04-12T17:56:50.503175Z",
     "start_time": "2019-04-12T17:56:49.756135Z"
    }
   },
   "outputs": [],
   "source": [
    "%%script env scripts_dir=\"$scripts_dir\" list_dir=\"$list_dir\" refseq_dir=\"$refseq_dir\" STAR=\"$STAR\" bash\n",
    "\n",
    "if [ ! -d $refseq_dir/Pman_2.1.3.STAR2.7.0e_gtf ]; then\n",
    "    mkdir $refseq_dir/Pman_2.1.3.STAR2.7.0e_gtf\n",
    "    mkdir $refseq_dir/Ppol_1.3.3.STAR2.7.0e_gtf\n",
    "    mkdir $refseq_dir/Pman_2.1.3_Ppol_1.3.3.diploid.STAR2.7.0e_gtf; fi\n",
    "    \n",
    "if [ ! -f $refseq_dir/Pman_2.1.3.STAR2.7.0e_gtf/Genome ]; then\n",
    "    sbatch --mem=40gb -n 16 --time=0-12:00 -p hoekstra,shared,general \\\n",
    "    --job-name \"STAR_index\" -o $scripts_dir/logs/STAR_index.BW.out -e $scripts_dir/logs/STAR_index.BW.err \\\n",
    "    --wrap=\"$STAR --runThreadN 16 --runMode genomeGenerate \\\n",
    "    --genomeDir $refseq_dir/Pman_2.1.3.STAR2.7.0e_gtf \\\n",
    "    --genomeFastaFiles $refseq_dir/Pman_2.1.3.fasta \\\n",
    "    --sjdbGTFfile $refseq_dir/Pman_2.1.3.RSEM_gff3/Pman_2.1.3.RSEM_gff3.gtf \\\n",
    "    --genomeChrBinNbits 17 --sjdbOverhang 149\"; fi\n",
    "\n",
    "if [ ! -f $refseq_dir/Ppol_1.3.3.STAR2.7.0e_gtf/Genome ]; then\n",
    "    sbatch --mem=40gb -n 16 --time=0-12:00 -p hoekstra,shared,general \\\n",
    "    --job-name \"STAR_index\" -o $scripts_dir/logs/STAR_index.PO.out -e $scripts_dir/logs/STAR_index.PO.err \\\n",
    "    --wrap=\"$STAR --runThreadN 16 --runMode genomeGenerate \\\n",
    "    --genomeDir $refseq_dir/Ppol_1.3.3.STAR2.7.0e_gtf \\\n",
    "    --genomeFastaFiles $refseq_dir/Ppol_1.3.3.fasta \\\n",
    "    --sjdbGTFfile $refseq_dir/Ppol_1.3.3.RSEM_gff3/Ppol_1.3.3.RSEM_gff3.gtf \\\n",
    "    --genomeChrBinNbits 17 --sjdbOverhang 149\"; fi\n",
    "        \n",
    "if [ ! -f $refseq_dir/Pman_2.1.3_Ppol_1.3.3.diploid.STAR2.7.0e_gtf/Genome ]; then\n",
    "    sbatch --mem=80gb -n 16 --time=0-12:00 -p hoekstra,shared,general \\\n",
    "    --job-name \"STAR_index\" -o $scripts_dir/logs/STAR_index.F1.out -e $scripts_dir/logs/STAR_index.F1.err \\\n",
    "    --wrap=\"$STAR --runThreadN 16 --runMode genomeGenerate \\\n",
    "    --genomeDir $refseq_dir/Pman_2.1.3_Ppol_1.3.3.diploid.STAR2.7.0e_gtf \\\n",
    "    --genomeFastaFiles $refseq_dir/Pman_2.1.3_Ppol_1.3.3.renamed_suffix.diploid.fasta \\\n",
    "    --sjdbGTFfile $refseq_dir/Pman_2.1.3_Ppol_1.3.3.RSEM_gff3/Pman_2.1.3_Ppol_1.3.3.RSEM_gff3.gtf \\\n",
    "    --genomeChrBinNbits 17 --sjdbOverhang 149 --limitGenomeGenerateRAM 35000000000\"; fi"
   ]
  },
  {
   "cell_type": "markdown",
   "metadata": {},
   "source": [
    "#### Format transcript fastas for MMSEQ\n",
    "\n",
    "NOTES:\n",
    "- Merge ID and name fields to retain both for subsequent manipulations/analyses\n",
    "- gffread seems to only accept \"Name\" as geneID field\n",
    "- MMSEQ expects header to be \">TID ... gene:GID ...\" (but could also use regex within)"
   ]
  },
  {
   "cell_type": "code",
   "execution_count": null,
   "metadata": {
    "ExecuteTime": {
     "end_time": "2019-04-12T18:02:16.669964Z",
     "start_time": "2019-04-12T17:57:18.124500Z"
    }
   },
   "outputs": [],
   "source": [
    "%%script env scripts_dir=\"$scripts_dir\" list_dir=\"$list_dir\" refseq_dir=\"$refseq_dir\"  bash\n",
    "\n",
    "if [ ! -f  $refseq_dir/Pman_2.1.3.RSEM_gff3.renamed.gtf ]; then\n",
    "    sed 's/ //g; s/;/\\t/g; s/\"//g' $refseq_dir/Pman_2.1.3.RSEM_gff3/Pman_2.1.3.RSEM_gff3.gtf \\\n",
    "    | awk -F \"\\t\" 'BEGIN{OFS=\"\"} \\\n",
    "    {for (i=9;i<=NF;i++) if ($i~\"gene_id\") {gsub(\"gene_id\",\"\",$i); gene_id=$i}; \\\n",
    "    for (i=9;i<=NF;i++) if ($i~\"transcript_id\") {gsub(\"transcript_id\",\"\",$i); transcript_id=$i}; \\\n",
    "    for (i=9;i<=NF;i++) if ($i~\"gene_name\") {gsub(\"gene_name\",\"\",$i); gene_name=$i}; \\\n",
    "    print $1,\"\\t\",$2,\"\\t\",$3,\"\\t\",$4,\"\\t\",$5,\"\\t\",$6,\"\\t\",$7,\"\\t\",$8,\"\\t\",\\\n",
    "        \"Name \\\"\",gene_id,\"_\",gene_name,\"\\\"\",\"; \",\"transcript_id \\\"\",transcript_id,\"\\\"\"}' \\\n",
    "    > $refseq_dir/Pman_2.1.3.RSEM_gff3.renamed.gtf; fi\n",
    "    \n",
    "if [ ! -f $refseq_dir/Pman_2.1.3.transcripts.mmseq.fasta ]; then\n",
    "    gffread -F -w $refseq_dir/Pman_2.1.3.transcripts.mmseq.fasta \\\n",
    "    -g $refseq_dir/Pman_2.1.3.fasta \\\n",
    "    $refseq_dir/Pman_2.1.3.RSEM_gff3.renamed.gtf\n",
    "    \n",
    "    sed -i 's/Name=/gene:/' $refseq_dir/Pman_2.1.3.transcripts.mmseq.fasta; fi\n",
    " \n",
    " \n",
    "if [ ! -f  $refseq_dir/Ppol_1.3.3.RSEM_gff3.renamed.gtf ]; then\n",
    "    sed 's/ //g; s/;/\\t/g; s/\"//g' $refseq_dir/Ppol_1.3.3.RSEM_gff3/Ppol_1.3.3.RSEM_gff3.gtf \\\n",
    "    | awk -F \"\\t\" 'BEGIN{OFS=\"\"} \\\n",
    "    {for (i=9;i<=NF;i++) if ($i~\"gene_id\") {gsub(\"gene_id\",\"\",$i); gene_id=$i}; \\\n",
    "    for (i=9;i<=NF;i++) if ($i~\"transcript_id\") {gsub(\"transcript_id\",\"\",$i); transcript_id=$i}; \\\n",
    "    for (i=9;i<=NF;i++) if ($i~\"gene_name\") {gsub(\"gene_name\",\"\",$i); gene_name=$i}; \\\n",
    "    print $1,\"\\t\",$2,\"\\t\",$3,\"\\t\",$4,\"\\t\",$5,\"\\t\",$6,\"\\t\",$7,\"\\t\",$8,\"\\t\",\\\n",
    "        \"Name \\\"\",gene_id,\"_\",gene_name,\"\\\"\",\"; \",\"transcript_id \\\"\",transcript_id,\"\\\"\"}' \\\n",
    "    > $refseq_dir/Ppol_1.3.3.RSEM_gff3.renamed.gtf; fi\n",
    "    \n",
    "if [ ! -f $refseq_dir/Ppol_1.3.3.transcripts.mmseq.fasta ]; then\n",
    "    gffread -F -w $refseq_dir/Ppol_1.3.3.transcripts.mmseq.fasta \\\n",
    "    -g $refseq_dir/Ppol_1.3.3.fasta \\\n",
    "    $refseq_dir/Ppol_1.3.3.RSEM_gff3.renamed.gtf\n",
    "    \n",
    "    sed -i 's/Name=/gene:/' $refseq_dir/Ppol_1.3.3.transcripts.mmseq.fasta; fi\n",
    "\n",
    "    \n",
    "if [ ! -f  $refseq_dir/Pman_2.1.3_Ppol_1.3.3.RSEM_gff3.renamed.gtf ]; then\n",
    "    sed 's/ //g; s/;/\\t/g; s/\"//g' $refseq_dir/Pman_2.1.3_Ppol_1.3.3.RSEM_gff3/Pman_2.1.3_Ppol_1.3.3.RSEM_gff3.gtf \\\n",
    "    | awk -F \"\\t\" 'BEGIN{OFS=\"\"} \\\n",
    "    {for (i=9;i<=NF;i++) if ($i~\"gene_id\") {gsub(\"gene_id|_BW|_PO\",\"\",$i); gene_id=$i}; \\\n",
    "    for (i=9;i<=NF;i++) if ($i~\"transcript_id\") {gsub(\"transcript_id\",\"\",$i); transcript_id=$i}; \\\n",
    "    for (i=9;i<=NF;i++) if ($i~\"gene_name\") {gsub(\"gene_name\",\"\",$i); gene_name=$i}; \\\n",
    "    print $1,\"\\t\",$2,\"\\t\",$3,\"\\t\",$4,\"\\t\",$5,\"\\t\",$6,\"\\t\",$7,\"\\t\",$8,\"\\t\",\\\n",
    "        \"Name \\\"\",gene_id,\"_\",gene_name,\"\\\"\",\"; \",\"transcript_id \\\"\",transcript_id,\"\\\"\"}' \\\n",
    "    > $refseq_dir/Pman_2.1.3_Ppol_1.3.3.RSEM_gff3.renamed.gtf; fi\n",
    "    \n",
    "if [ ! -f $refseq_dir/Pman_2.1.3_Ppol_1.3.3.renamed_suffix.diploid.transcripts.mmseq.fasta ]; then\n",
    "    gffread -F -w $refseq_dir/Pman_2.1.3_Ppol_1.3.3.renamed_suffix.diploid.transcripts.mmseq.fasta \\\n",
    "    -g $refseq_dir/Pman_2.1.3_Ppol_1.3.3.renamed_suffix.diploid.fasta \\\n",
    "    $refseq_dir/Pman_2.1.3_Ppol_1.3.3.RSEM_gff3.renamed.gtf\n",
    "    \n",
    "    sed -i 's/Name=/gene:/' $refseq_dir/Pman_2.1.3_Ppol_1.3.3.renamed_suffix.diploid.transcripts.mmseq.fasta; fi"
   ]
  },
  {
   "cell_type": "markdown",
   "metadata": {},
   "source": [
    "#### Create genelist bed files"
   ]
  },
  {
   "cell_type": "code",
   "execution_count": null,
   "metadata": {
    "ExecuteTime": {
     "end_time": "2019-04-08T23:52:13.126130Z",
     "start_time": "2019-04-08T23:52:12.052520Z"
    }
   },
   "outputs": [],
   "source": [
    "%%script env scripts_dir=\"$scripts_dir\" list_dir=\"$list_dir\" refseq_dir=\"$refseq_dir\"  bash\n",
    "\n",
    "if [ ! $list_dir/Pman_2.1.3.gene_name.genelist.bed ]; then\n",
    "    sed 's/;/\\t/g' $refseq_dir/Pman_2.1.3.gff3 \\\n",
    "    | awk -F \"\\t\" 'BEGIN{OFS=\"\\t\"} $3==\"gene\" || $3==\"pseudogene\" \\\n",
    "    {for (i=9;i<=NF;i++) if ($i~\"Name\") {gsub(\"Name=\",\"\",$i); gene_id=$i}; \\\n",
    "    print $1,$4-1,$5,$3,$2,gene_id}' \\\n",
    "     > $list_dir/Pman_2.1.3.gene_name.genelist.bed; fi\n",
    "    \n",
    "if [ ! $list_dir/Ppol_1.3.3.gene_name.genelist.bed ]; then\n",
    "    sed 's/;/\\t/g' $refseq_dir/Ppol_1.3.3.gff3 \\\n",
    "    | awk -F \"\\t\" 'BEGIN{OFS=\"\\t\"} $3==\"gene\" || $3==\"pseudogene\" \\\n",
    "    {for (i=9;i<=NF;i++) if ($i~\"Name\") {gsub(\"Name=\",\"\",$i); gene_id=$i}; \\\n",
    "    print $1,$4-1,$5,$3,$2,gene_id}' \\\n",
    "    > $list_dir/Ppol_1.3.3.gene_name.genelist.bed; fi \n",
    "    \n",
    "if [ ! $list_dir/Pman_2.1.3_Ppol_1.3.3.gene_name.chrX.genelist.txt ]; then\n",
    "    cat $list_dir/Pman_2.1.3.gene_name.genelist.bed $list_dir/Ppol_1.3.3.gene_name.genelist.bed \\\n",
    "    | grep chrX | cut -f 6 | sort | uniq \\\n",
    "    > $list_dir/Pman_2.1.3_Ppol_1.3.3.gene_name.chrX.genelist.txt; fi"
   ]
  },
  {
   "cell_type": "markdown",
   "metadata": {},
   "source": [
    "### Map to genome with STAR"
   ]
  },
  {
   "cell_type": "code",
   "execution_count": null,
   "metadata": {
    "ExecuteTime": {
     "end_time": "2019-04-04T14:17:38.319351Z",
     "start_time": "2019-04-04T14:17:38.105427Z"
    }
   },
   "outputs": [],
   "source": [
    "%%script env data_dir=\"$data_dir\" scripts_dir=\"$scripts_dir\" list_dir=\"$list_dir\" refseq_dir=\"$refseq_dir\" STAR=\"$STAR\" bash\n",
    "\n",
    "BW_refseq=\"$refseq_dir/Pman_2.1.3.STAR2.7.0e_gtf\"\n",
    "PO_refseq=\"$refseq_dir/Ppol_1.3.3.STAR2.7.0e_gtf\"\n",
    "F1_refseq=\"$refseq_dir/Pman_2.1.3_Ppol_1.3.3.diploid.STAR2.7.0e_gtf\"\n",
    "\n",
    "for tissue in $(cat ${list_dir}/tissuelist.txt)\n",
    "\n",
    "do\n",
    "    input_dir=\"$data_dir/${tissue}\"\n",
    "    output_dir=\"$data_dir/${tissue}\"                \n",
    "    tissue_samplelist=\"$list_dir/${tissue}.samplelist.txt\"\n",
    "\n",
    "    (\n",
    "    echo \"#!/bin/bash\"\n",
    "    echo \"#SBATCH -n 16\"\n",
    "    echo \"#SBATCH -N 1\"\n",
    "    echo \"#SBATCH -t 0-04:00\"\n",
    "    echo \"#SBATCH -p hoekstra,shared,general\"\n",
    "    echo \"#SBATCH --mem-per-cpu=5gb\"\n",
    "    echo \"#SBATCH --job-name STAR\"\n",
    "    echo \"#SBATCH --array 1-18%18\"\n",
    "    echo \"#SBATCH -o $scripts_dir/logs/%x_%A_%a.out\"\n",
    "    echo \"#SBATCH -e $scripts_dir/logs/%x_%A_%a.err\"\n",
    "    echo \"\"\n",
    "    printf \"sample=\\$(awk -v line=\\$SLURM_ARRAY_TASK_ID 'NR==line{print \\$1; exit}' $tissue_samplelist) \\n\" \n",
    "    echo \"\"\n",
    "    printf \"case \\$sample in \\n\\\n",
    "    BW*) refseq=\\\"$BW_refseq\\\" ;; \\n\\\n",
    "    PO*) refseq=\\\"$PO_refseq\\\" ;; \\n\\\n",
    "    F1*) refseq=\\\"$F1_refseq\\\" ;; \\n\\\n",
    "    *) echo \\\"Sample name does not contain pop info. Refseq could not be specified.\\\" ;; \\n\\\n",
    "    esac \\n\"\n",
    "    echo \"\"\n",
    "    printf \"if [ ! -f $output_dir/\\${sample}.STAR.Aligned.out.bam ]; then \\n \\\n",
    "    $STAR --runThreadN 16 --genomeDir \\$refseq --readFilesIn \\\n",
    "    $input_dir/\\${sample}.R1.trimmed.fastq.gz $input_dir/\\${sample}.R2.trimmed.fastq.gz \\\n",
    "    --outFileNamePrefix $output_dir/\\${sample}.STAR. --runMode alignReads \\\n",
    "    --readFilesCommand zcat --twopassMode Basic --outFilterType BySJout --outFilterMultimapNmax 20 \\\n",
    "    --outFilterMismatchNmax 999 --outFilterMismatchNoverLmax 0.04 --alignIntronMin 20 --alignIntronMax 1000000 \\\n",
    "    --alignMatesGapMax 1000000 --alignSJoverhangMin 8 --alignSJDBoverhangMin 1 -sjdbScore 1 --genomeLoad NoSharedMemory \\\n",
    "    --outSAMattributes All --outSAMtype BAM Unsorted --quantMode TranscriptomeSAM --quantTranscriptomeBan \\\n",
    "    IndelSoftclipSingleend --outSAMattrRGline ID:\\${sample} PL:illumina LB:\\${sample} SM:\\${sample} PU:barcode; fi \\n\"\n",
    "    ) > ${scripts_dir}/STAR.${tissue}.slurm\n",
    "\n",
    "done\n",
    "\n",
    "sed -i 's/--array 1-18%18/--array 1-11%11/' $scripts_dir/STAR.wholebrain.slurm"
   ]
  },
  {
   "cell_type": "code",
   "execution_count": null,
   "metadata": {
    "ExecuteTime": {
     "end_time": "2019-04-15T23:22:41.262955Z",
     "start_time": "2019-04-15T23:21:47.225473Z"
    }
   },
   "outputs": [],
   "source": [
    "%%script env list_dir=\"$list_dir\" scripts_dir=\"$scripts_dir\" bash\n",
    "\n",
    "for tissue in $(cat ${list_dir}/tissuelist.txt)\n",
    "\n",
    "do \n",
    "    printf \"$tissue -->\\t\" >> $scripts_dir/logs/jobIDs.STAR.log\n",
    "    sbatch ${scripts_dir}/STAR.${tissue}.slurm >> $scripts_dir/logs/jobIDs.STAR.log\n",
    "    sleep 1\n",
    "done\n",
    "\n",
    "cat $scripts_dir/logs/jobIDs.STAR.log"
   ]
  },
  {
   "cell_type": "code",
   "execution_count": null,
   "metadata": {
    "ExecuteTime": {
     "end_time": "2019-04-16T16:36:42.011882Z",
     "start_time": "2019-04-16T16:36:41.747735Z"
    },
    "scrolled": true
   },
   "outputs": [],
   "source": [
    "%%script env list_dir=\"$list_dir\" scripts_dir=\"$scripts_dir\" bash\n",
    "\n",
    "sacct -j $(grep -o '[0-9]*' $scripts_dir/logs/jobIDs.STAR.log | paste -s -d \",\") | grep -v \"COMP\""
   ]
  },
  {
   "cell_type": "code",
   "execution_count": null,
   "metadata": {
    "ExecuteTime": {
     "end_time": "2019-04-17T12:29:28.069673Z",
     "start_time": "2019-04-17T12:28:25.344413Z"
    }
   },
   "outputs": [],
   "source": [
    "%%script env data_dir=\"$data_dir\" scripts_dir=\"$scripts_dir\" list_dir=\"$list_dir\" bash\n",
    "\n",
    "samtools quickcheck -v ${data_dir}/*/*.bam > $list_dir/bad_bams.fofn && echo 'all bam files ok' \\\n",
    "        || echo 'some files failed check, see bad_bams.fofn'"
   ]
  },
  {
   "cell_type": "markdown",
   "metadata": {},
   "source": [
    "#### Summarize mapping stats"
   ]
  },
  {
   "cell_type": "code",
   "execution_count": null,
   "metadata": {
    "ExecuteTime": {
     "end_time": "2019-04-17T12:30:05.967702Z",
     "start_time": "2019-04-17T12:29:54.694822Z"
    }
   },
   "outputs": [],
   "source": [
    "%%script env data_dir=\"$data_dir\" list_dir=\"$list_dir\" scripts_dir=\"$scripts_dir\" bash\n",
    "\n",
    "output_dir=\"$data_dir/mapping_stats\"\n",
    "\n",
    "if [ ! -d $output_dir ]; then mkdir $output_dir; fi\n",
    "\n",
    "\n",
    "for tissue in $(cat ${list_dir}/tissuelist.txt)\n",
    "do\n",
    "    if [ -f $output_dir/$tissue.STAR.stats.txt ]; then rm $output_dir/$tissue.STAR.stats.txt; fi\n",
    "        \n",
    "    sample=$(head -1 $list_dir/${tissue}.samplelist.txt)\n",
    "    awk 'BEGIN{OFS=\"\\t\"}{a[NR]=$1} \\\n",
    "        END{for(i=1;i<=NR;i++){str=str\"\\t\"a[i]; } print \"Sample\",str}' \\\n",
    "        <(tail -n +6 $data_dir/$tissue/${sample}.STAR.Log.final.out \\\n",
    "          | tr -d \" \" | tr -d \"|\" | sed '/^\\s*$/d' | grep -v \"READS\") \\\n",
    "        > $output_dir/$tissue.STAR.stats.txt\n",
    "         \n",
    "    for sample in $(cat $list_dir/${tissue}.samplelist.txt)\n",
    "    do\n",
    "        awk -v sample=$sample 'BEGIN{OFS=\"\\t\"}{a[NR]=$2} \\\n",
    "            END{for(i=1;i<=NR;i++){str=str\"\\t\"a[i]; } print sample,str}' \\\n",
    "            <(tail -n +6 $data_dir/$tissue/${sample}.STAR.Log.final.out \\\n",
    "              | tr -d \" \" | tr -d \"|\" | sed '/^\\s*$/d' | grep -v \"READS\") \\\n",
    "            >> $output_dir/$tissue.STAR.stats.txt\n",
    "    done\n",
    "done"
   ]
  },
  {
   "cell_type": "markdown",
   "metadata": {},
   "source": [
    "### Estimate expression with RSEM"
   ]
  },
  {
   "cell_type": "code",
   "execution_count": null,
   "metadata": {
    "ExecuteTime": {
     "end_time": "2019-04-16T17:38:08.257461Z",
     "start_time": "2019-04-16T17:38:07.196440Z"
    }
   },
   "outputs": [],
   "source": [
    "%%script env data_dir=\"$data_dir\" scripts_dir=\"$scripts_dir\" refseq_dir=\"$refseq_dir\" list_dir=\"$list_dir\" RSEM_dir=\"$RSEM_dir\" bash\n",
    "\n",
    "BW_RSEM_index=\"$refseq_dir/Pman_2.1.3.RSEM_gff3/Pman_2.1.3.RSEM_gff3\"\n",
    "PO_RSEM_index=\"$refseq_dir/Ppol_1.3.3.RSEM_gff3/Ppol_1.3.3.RSEM_gff3\"\n",
    "F1_RSEM_index=\"$refseq_dir/Pman_2.1.3_Ppol_1.3.3.RSEM_gff3/Pman_2.1.3_Ppol_1.3.3.RSEM_gff3\"\n",
    "\n",
    "for tissue in $(cat ${list_dir}/tissuelist.txt)\n",
    "\n",
    "do\n",
    "    work_dir=\"$data_dir/${tissue}\"                \n",
    "    tissue_samplelist=\"$list_dir/${tissue}.samplelist.txt\"\n",
    "\n",
    "    (\n",
    "    echo \"#!/bin/bash\"\n",
    "    echo \"#SBATCH -n 1\"\n",
    "    echo \"#SBATCH -c 16\"   \n",
    "    echo \"#SBATCH -N 1\"\n",
    "    echo \"#SBATCH -t 0-08:00\"\n",
    "    echo \"#SBATCH -p hoekstra,shared,general\"\n",
    "    echo \"#SBATCH --mem=8gb\"\n",
    "    echo \"#SBATCH --job-name RSEM\"\n",
    "    echo \"#SBATCH --array 1-18%18\"\n",
    "    echo \"#SBATCH -o $scripts_dir/logs/%x_%A_%a.out\"\n",
    "    echo \"#SBATCH -e $scripts_dir/logs/%x_%A_%a.err\"\n",
    "    echo \"\"\n",
    "    printf \"sample=\\$(awk -v line=\\$SLURM_ARRAY_TASK_ID 'NR==line{print \\$1; exit}' $tissue_samplelist) \\n\" \n",
    "    echo \"\"\n",
    "    printf \"case \\$sample in \\n\\\n",
    "    BW*) RSEM_index=\\\"$BW_RSEM_index\\\" ;; \\n\\\n",
    "    PO*) RSEM_index=\\\"$PO_RSEM_index\\\" ;; \\n\\\n",
    "    F1*) RSEM_index=\\\"$F1_RSEM_index\\\" ;; \\n\\\n",
    "    *) echo \\\"Sample name does not contain pop info. RSEM_index could not be specified.\\\" ;; \\n\\\n",
    "    esac \\n\"\n",
    "    echo \"\"\n",
    "    printf \"if [ ! -f $work_dir/\\${sample}.RSEM.genes.results ]; then \\n \\\n",
    "    $RSEM_dir/rsem-calculate-expression --num-threads 16 --strandedness reverse --paired-end --alignments \\\n",
    "    --append-names --no-bam-output --time \\\n",
    "    $work_dir/\\${sample}.STAR.Aligned.toTranscriptome.out.bam \\$RSEM_index \\\n",
    "    $work_dir/\\${sample}.RSEM; fi \\n\"\n",
    "    ) > ${scripts_dir}/RSEM.${tissue}.slurm\n",
    "\n",
    "done\n",
    "\n",
    "sed -i 's/--array 1-18%18/--array 1-11%11/' $scripts_dir/RSEM.wholebrain.slurm\n",
    "sed -i 's/--strandedness reverse //' $scripts_dir/RSEM.wholebrain.slurm"
   ]
  },
  {
   "cell_type": "code",
   "execution_count": null,
   "metadata": {
    "ExecuteTime": {
     "end_time": "2019-04-17T12:30:35.985010Z",
     "start_time": "2019-04-17T12:30:34.183140Z"
    }
   },
   "outputs": [],
   "source": [
    "%%script env list_dir=\"$list_dir\" scripts_dir=\"$scripts_dir\" bash\n",
    "\n",
    "for tissue in $(cat ${list_dir}/tissuelist.txt)\n",
    "\n",
    "do \n",
    "    printf \"$tissue -->\\t\" >> $scripts_dir/logs/jobIDs.RSEM.log\n",
    "    sbatch ${scripts_dir}/RSEM.${tissue}.slurm >> $scripts_dir/logs/jobIDs.RSEM.log\n",
    "    sleep 1\n",
    "done\n",
    "\n",
    "cat $scripts_dir/logs/jobIDs.RSEM.log"
   ]
  },
  {
   "cell_type": "code",
   "execution_count": null,
   "metadata": {
    "ExecuteTime": {
     "end_time": "2019-04-18T12:10:30.992583Z",
     "start_time": "2019-04-18T12:10:30.457571Z"
    },
    "scrolled": true
   },
   "outputs": [],
   "source": [
    "%%script env list_dir=\"$list_dir\" scripts_dir=\"$scripts_dir\" bash\n",
    "\n",
    "sacct -j $(grep -o '[0-9]*' $scripts_dir/logs/jobIDs.RSEM.log | paste -s -d \",\") | grep -v \"COMP\""
   ]
  },
  {
   "cell_type": "markdown",
   "metadata": {},
   "source": [
    "#### Create count tables"
   ]
  },
  {
   "cell_type": "markdown",
   "metadata": {},
   "source": [
    "##### Create list of shared gene_names"
   ]
  },
  {
   "cell_type": "code",
   "execution_count": null,
   "metadata": {
    "ExecuteTime": {
     "end_time": "2019-04-04T20:37:15.312422Z",
     "start_time": "2019-04-04T20:37:14.838678Z"
    }
   },
   "outputs": [],
   "source": [
    "%%script env data_dir=\"$data_dir\" scripts_dir=\"$scripts_dir\" list_dir=\"$list_dir\" refseq_dir=\"$refseq_dir\" bash\n",
    "\n",
    "# only keep genes that have gene_name based on orthology with Mus\n",
    "\n",
    "if [ ! -f $list_dir/BW_PO.shared_genes_byName.genelist.txt ]; then \n",
    "    awk 'FNR==NR && !/APOLLO/ && !/None/ {gsub(\"DEERMOUSE_G[0-9]+_\",\"\",$1); idx[$1]=$1; next} \\\n",
    "    FNR!=NR && !/APOLLO/ && !/None/ {gsub(\"OLDFIELD_G[0-9]+_\",\"\",$1); if ($1 in idx) print idx[$1]}' \\\n",
    "    $data_dir/amygdala/BW_M_15507_amygdala.RSEM.genes.results \\\n",
    "    $data_dir/amygdala/PO_F_15818_amygdala.RSEM.genes.results \\\n",
    "    > $list_dir/BW_PO.shared_genes_byName.genelist.txt; fi\n",
    "    \n",
    "wc -l $list_dir/BW_PO.shared_genes_byName.genelist.txt && head $list_dir/BW_PO.shared_genes_byName.genelist.txt"
   ]
  },
  {
   "cell_type": "code",
   "execution_count": null,
   "metadata": {
    "ExecuteTime": {
     "end_time": "2019-04-18T20:05:09.940728Z",
     "start_time": "2019-04-18T20:04:38.141072Z"
    }
   },
   "outputs": [],
   "source": [
    "%%script env scripts_dir=\"$scripts_dir\" list_dir=\"$list_dir\" refseq_dir=\"$refseq_dir\" data_dir=\"$data_dir\" bash\n",
    "\n",
    "if [ ! $list_dir/BW_PO.shared_genes_byName_bySourceGene.genelist.txt ]; then\n",
    "    sed 's/;/\\t/g' $refseq_dir/Pman_2.1.3.gff3 \\\n",
    "    | awk -F \"\\t\" 'BEGIN{OFS=\"\\t\"} $3==\"gene\" || $3==\"pseudogene\" \\\n",
    "    {for (i=9;i<=NF;i++) if ($i~\"Name\") {gsub(\"Name=\",\"\",$i); gene_id=$i; \\\n",
    "    for (i=9;i<=NF;i++) if ($i~\"source_gene\") {gsub(\"source_gene=\",\"\",$i); source_gene_id=$i}}; \\\n",
    "    print gene_id,source_gene_id}' \\\n",
    "    | awk 'BEGIN{OFS=\"\\t\"} FNR==NR {idx[$1]=$0} \\\n",
    "    FNR!=NR {if ($1 in idx) print idx[$1]}' \\\n",
    "    - $list_dir/BW_PO.shared_genes_byName.genelist.txt \\\n",
    "    > $list_dir/BW_PO.shared_genes_byName_bySourceGene.genelist.txt; fi\n",
    "    \n",
    "wc -l $list_dir/BW_PO.shared_genes_byName_bySourceGene.genelist.txt && head $list_dir/BW_PO.shared_genes_byName_bySourceGene.genelist.txt"
   ]
  },
  {
   "cell_type": "markdown",
   "metadata": {},
   "source": [
    "##### Extract shared genes in parental species"
   ]
  },
  {
   "cell_type": "code",
   "execution_count": null,
   "metadata": {
    "ExecuteTime": {
     "end_time": "2019-04-18T12:38:44.570467Z",
     "start_time": "2019-04-18T12:38:21.520305Z"
    }
   },
   "outputs": [],
   "source": [
    "%%script env data_dir=\"$data_dir\" scripts_dir=\"$scripts_dir\" list_dir=\"$list_dir\" bash\n",
    "\n",
    "for tissue in $(cat $list_dir/tissuelist.txt)\n",
    "do\n",
    "    for sample in $(grep \"BW\\|PO\" $list_dir/${tissue}.samplelist.txt)\n",
    "    do\n",
    "\n",
    "    if [ ! -f $data_dir/$tissue/${sample}.RSEM.genes.shared.results ]; then \n",
    "        awk 'BEGIN{OFS=\"\\t\"} FNR==NR && !/APOLLO/ && !/None/ \\\n",
    "        {gsub(\"DEERMOUSE_G[0-9]+_|OLDFIELD_G[0-9]+_\",\"\",$1); idx[$1]=$0} \\\n",
    "        FNR!=NR {if ($1 in idx) print idx[$1]}' \\\n",
    "        $data_dir/$tissue/${sample}.RSEM.genes.results \\\n",
    "        $list_dir/BW_PO.shared_genes_byName.genelist.txt \\\n",
    "        > $data_dir/$tissue/${sample}.RSEM.genes.shared.results; fi\n",
    "    done\n",
    "done"
   ]
  },
  {
   "cell_type": "markdown",
   "metadata": {},
   "source": [
    "##### Get sum of both alleles in F1s"
   ]
  },
  {
   "cell_type": "code",
   "execution_count": null,
   "metadata": {
    "ExecuteTime": {
     "end_time": "2019-04-18T12:39:29.293774Z",
     "start_time": "2019-04-18T12:38:52.249474Z"
    }
   },
   "outputs": [],
   "source": [
    "%%script env data_dir=\"$data_dir\" scripts_dir=\"$scripts_dir\" list_dir=\"$list_dir\" bash\n",
    "\n",
    "for tissue in $(cat $list_dir/tissuelist.txt)\n",
    "do\n",
    "    for sample in $(grep \"F1\" $list_dir/${tissue}.samplelist.txt)\n",
    "    do\n",
    "        if [ ! -f $data_dir/$tissue/${sample}.RSEM.genes.shared.sum.results ]; then\n",
    "            awk 'BEGIN{OFS=\"\\t\"} NR>1 && !/APOLLO/ && !/None/ \\\n",
    "            {gsub(\"DEERMOUSE_G[0-9]+_|OLDFIELD_G[0-9]+_|_BW|_PO|BW_|PO_\",\"\",$1); sum[$1]+=$5} \\\n",
    "            END{print \"gene_id\",\"transcript_id(s)\",\"length\",\"effective_length\",\"expected_count\",\"TPM\",\"FPKM\"; \\\n",
    "            for (i in sum) print i,\"NA\",\"NA\",\"NA\",sum[i],\"NA\",\"NA\"}' \\\n",
    "            $data_dir/$tissue/${sample}.RSEM.genes.results |\n",
    "            awk 'BEGIN{OFS=\"\\t\"} FNR==NR {idx[$1]=$0; next} \\\n",
    "            FNR!=NR {if ($1 in idx) print idx[$1]}' \\\n",
    "            - $list_dir/BW_PO.shared_genes_byName.genelist.txt \\\n",
    "            > $data_dir/$tissue/${sample}.RSEM.genes.shared.sum.results; fi\n",
    "    done\n",
    "done"
   ]
  },
  {
   "cell_type": "markdown",
   "metadata": {},
   "source": [
    "##### Get counts for parental alleles in F1s separately"
   ]
  },
  {
   "cell_type": "code",
   "execution_count": null,
   "metadata": {
    "ExecuteTime": {
     "end_time": "2019-04-18T12:40:32.249558Z",
     "start_time": "2019-04-18T12:39:43.688396Z"
    }
   },
   "outputs": [],
   "source": [
    "%%script env data_dir=\"$data_dir\" scripts_dir=\"$scripts_dir\" list_dir=\"$list_dir\" bash\n",
    "\n",
    "for tissue in $(cat $list_dir/tissuelist.txt)\n",
    "do\n",
    "    for sample in $(grep \"F1\" $list_dir/${tissue}.samplelist.txt)\n",
    "    do\n",
    "        if [ ! -f $data_dir/$tissue/${sample}.RSEM.genes.shared.BW.results ]; then\n",
    "            awk 'BEGIN{OFS=\"\\t\"} NR==1 {print} FNR==NR && /BW/ && !/APOLLO/ && !/None/ \\\n",
    "            {gsub(\"DEERMOUSE_G[0-9]+_|OLDFIELD_G[0-9]+_|_BW|_PO|BW_|PO_\",\"\",$1); \\\n",
    "            gsub(\"_BW|_PO|BW_|PO_\",\"\",$2); idx[$1]=$0} \\\n",
    "            FNR!=NR {if ($1 in idx) print idx[$1]}' \\\n",
    "            $data_dir/$tissue/${sample}.RSEM.genes.results \\\n",
    "            $list_dir/BW_PO.shared_genes_byName.genelist.txt \\\n",
    "            > $data_dir/$tissue/${sample}.RSEM.genes.shared.BW.results; fi\n",
    "    \n",
    "        if [ ! -f $data_dir/$tissue/${sample}.RSEM.genes.shared.PO.results ]; then\n",
    "            awk 'BEGIN{OFS=\"\\t\"} NR==1 {print} FNR==NR && /PO/ && !/APOLLO/ && !/None/ \\\n",
    "            {gsub(\"DEERMOUSE_G[0-9]+_|OLDFIELD_G[0-9]+_|_BW|_PO|BW_|PO_\",\"\",$1); \\\n",
    "            gsub(\"_BW|_PO|BW_|PO_\",\"\",$2); idx[$1]=$0} \\\n",
    "            FNR!=NR {if ($1 in idx) print idx[$1]}' \\\n",
    "            $data_dir/$tissue/${sample}.RSEM.genes.results \\\n",
    "            $list_dir/BW_PO.shared_genes_byName.genelist.txt \\\n",
    "            > $data_dir/$tissue/${sample}.RSEM.genes.shared.PO.results; fi\n",
    "    done\n",
    "done"
   ]
  },
  {
   "cell_type": "markdown",
   "metadata": {},
   "source": [
    "##### Generate count tables"
   ]
  },
  {
   "cell_type": "code",
   "execution_count": null,
   "metadata": {
    "ExecuteTime": {
     "end_time": "2019-04-18T12:41:14.208283Z",
     "start_time": "2019-04-18T12:40:39.970625Z"
    }
   },
   "outputs": [],
   "source": [
    "%%script env data_dir=\"$data_dir\" scripts_dir=\"$scripts_dir\" list_dir=\"$list_dir\" RSEM_dir=\"$RSEM_dir\" bash\n",
    "\n",
    "### all tissues - with sum of both alleles in F1s\n",
    "\n",
    "output_dir=\"$data_dir/RSEM_count_tables\"\n",
    "\n",
    "if [ ! -f $output_dir/BW_PO_F1sum.all_subregions_WB.genes.shared.count.matrix ]; then\n",
    "\n",
    "    samples=\"\"\n",
    "    \n",
    "    for tissue in $(grep -v \"wholebrain\" $list_dir/tissuelist.txt)\n",
    "    do\n",
    "        samples+=$(find $data_dir/$tissue/BW*.genes.shared.results); samples+=\" \"\n",
    "        samples+=$(find $data_dir/$tissue/PO*.genes.shared.results); samples+=\" \"\n",
    "        samples+=$(find $data_dir/$tissue/F1*.genes.shared.sum.results); samples+=\" \"\n",
    "    done\n",
    "    \n",
    "    samples+=$(find $data_dir/wholebrain/BW*.genes.shared.results); samples+=\" \"\n",
    "    samples+=$(find $data_dir/wholebrain/PO*.genes.shared.results); samples+=\" \"\n",
    "\n",
    "    $RSEM_dir/rsem-generate-data-matrix $samples \\\n",
    "        | sed -r \"s,$data_dir/[a-zA-Z_]+/,,g\" | sed -r 's,\\.RSEM\\.genes(\\.shared)?(\\.sum)?\\.results,,g' \\\n",
    "        > $output_dir/BW_PO_F1sum.all_subregions_WB.genes.shared.count.matrix; fi"
   ]
  },
  {
   "cell_type": "code",
   "execution_count": null,
   "metadata": {
    "ExecuteTime": {
     "end_time": "2019-04-18T12:41:14.618508Z",
     "start_time": "2019-04-18T12:41:14.210308Z"
    }
   },
   "outputs": [],
   "source": [
    "%%script env data_dir=\"$data_dir\" scripts_dir=\"$scripts_dir\" list_dir=\"$list_dir\" RSEM_dir=\"$RSEM_dir\" bash\n",
    "\n",
    "### INFO FILE - all tissues - with F1s sum of both alleles \n",
    "\n",
    "output_dir=\"$data_dir/RSEM_count_tables\"\n",
    "\n",
    "if [ ! -f $output_dir/BW_PO_F1sum.all_subregions_WB.genes.shared.info.txt ]; then\n",
    "\n",
    "    samples=\"\"\n",
    "    \n",
    "    for tissue in $(grep -v \"wholebrain\" $list_dir/tissuelist.txt)\n",
    "    do\n",
    "        samples+=$(find $data_dir/$tissue/BW*.genes.shared.results -exec basename {} \\;); samples+=\" \"\n",
    "        samples+=$(find $data_dir/$tissue/PO*.genes.shared.results -exec basename {} \\;); samples+=\" \"\n",
    "        samples+=$(find $data_dir/$tissue/F1*.genes.shared.sum.results -exec basename {} \\;); samples+=\" \"\n",
    "    done\n",
    "    \n",
    "    samples+=$(find $data_dir/wholebrain/BW*.genes.shared.results -exec basename {} \\;); samples+=\" \"\n",
    "    samples+=$(find $data_dir/wholebrain/PO*.genes.shared.results -exec basename {} \\;); samples+=\" \"\n",
    "    \n",
    "\n",
    "    echo $samples | tr \" \" \"\\n\" | sed -r 's,\\..+,,g' \\\n",
    "        | awk 'BEGIN{OFS=\"\\t\"} {split($0,a,\"_\"); print $1,a[1],a[2],a[4]}' \\\n",
    "        | awk 'BEGIN{OFS=\"\\t\"; print \"sample_id\\tspecies\\tsex\\ttissue\\tbatch\"} \\\n",
    "        /cerebellum|hindbrain|hippocampus|midbrain|_thalamus/ {print $0,\"1\"} \\\n",
    "        /amygdala|hypothalamus|mPFC|septum|striatum/ {print $0,\"2\"} \\\n",
    "        /wholebrain/ {print $0,\"3\"}' \\\n",
    "        > $output_dir/BW_PO_F1sum.all_subregions_WB.genes.shared.info.txt; fi"
   ]
  },
  {
   "cell_type": "markdown",
   "metadata": {},
   "source": [
    "### Estimate expression with MMSEQ"
   ]
  },
  {
   "cell_type": "markdown",
   "metadata": {},
   "source": [
    "#### bam2hits"
   ]
  },
  {
   "cell_type": "code",
   "execution_count": null,
   "metadata": {
    "ExecuteTime": {
     "end_time": "2019-04-04T17:41:32.717457Z",
     "start_time": "2019-04-04T17:41:31.821027Z"
    }
   },
   "outputs": [],
   "source": [
    "%%script env data_dir=\"$data_dir\" scripts_dir=\"$scripts_dir\" refseq_dir=\"$refseq_dir\" list_dir=\"$list_dir\" mmseq_dir=\"$mmseq_dir\" bash\n",
    "\n",
    "BW_refseq=\"$refseq_dir/Pman_2.1.3.transcripts.mmseq.fasta\"\n",
    "PO_refseq=\"$refseq_dir/Ppol_1.3.3.transcripts.mmseq.fasta\"\n",
    "F1_refseq=\"$refseq_dir/Pman_2.1.3_Ppol_1.3.3.renamed_suffix.diploid.transcripts.mmseq.fasta\"\n",
    "\n",
    "for tissue in $(cat ${list_dir}/tissuelist.txt)\n",
    "\n",
    "do\n",
    "    work_dir=\"$data_dir/${tissue}\"                \n",
    "    tissue_samplelist=\"$list_dir/${tissue}.samplelist.txt\"\n",
    "    \n",
    "    (\n",
    "    echo \"#!/bin/bash\"\n",
    "    echo \"#SBATCH -n 1\"\n",
    "    echo \"#SBATCH -c 1\"   \n",
    "    echo \"#SBATCH -N 1\"\n",
    "    echo \"#SBATCH -t 0-02:00\"\n",
    "    echo \"#SBATCH -p hoekstra,shared,general\"\n",
    "    echo \"#SBATCH --mem=1gb\"\n",
    "    echo \"#SBATCH --job-name bam2hits\"\n",
    "    echo \"#SBATCH --array 1-18%18\"\n",
    "    echo \"#SBATCH -o $scripts_dir/logs/%x_%A_%a.out\"\n",
    "    echo \"#SBATCH -e $scripts_dir/logs/%x_%A_%a.err\"\n",
    "    echo \"\"\n",
    "    printf \"sample=\\$(awk -v line=\\$SLURM_ARRAY_TASK_ID 'NR==line {print \\$1; exit}' $tissue_samplelist) \\n\" \n",
    "    echo \"\"\n",
    "    printf \"case \\$sample in \\n\\\n",
    "    BW*) refseq=\\\"$BW_refseq\\\" ;; \\n\\\n",
    "    PO*) refseq=\\\"$PO_refseq\\\" ;; \\n\\\n",
    "    F1*) refseq=\\\"$F1_refseq\\\" ;; \\n\\\n",
    "    *) echo \\\"Sample name does not contain pop info. Refseq could not be specified.\\\" ;; \\n\\\n",
    "    esac \\n\"\n",
    "    echo \"\"\n",
    "    printf \"if [ ! -f $work_dir/\\${sample}.bam2hits.hits ]; then \\n \\\n",
    "    $mmseq_dir/bam2hits \\\n",
    "    \\$refseq \\\n",
    "    $work_dir/\\${sample}.STAR.Aligned.toTranscriptome.out.bam \\\n",
    "    > $work_dir/\\${sample}.bam2hits.hits; fi \\n\"\n",
    "    ) > ${scripts_dir}/bam2hits.${tissue}.slurm\n",
    "\n",
    "done\n",
    "\n",
    "sed -i 's/--array 1-18%18/--array 1-11%11/' $scripts_dir/bam2hits.wholebrain.slurm"
   ]
  },
  {
   "cell_type": "code",
   "execution_count": null,
   "metadata": {
    "ExecuteTime": {
     "end_time": "2019-04-17T12:48:43.510361Z",
     "start_time": "2019-04-17T12:48:42.111708Z"
    }
   },
   "outputs": [],
   "source": [
    "%%script env list_dir=\"$list_dir\" scripts_dir=\"$scripts_dir\" bash\n",
    "\n",
    "for tissue in $(grep -w \"thalamus\" ${list_dir}/tissuelist.txt)\n",
    "\n",
    "do \n",
    "    printf \"$tissue -->\\t\" >> $scripts_dir/logs/jobIDs.bam2hits.log\n",
    "    sbatch ${scripts_dir}/bam2hits.${tissue}.slurm >> $scripts_dir/logs/jobIDs.bam2hits.log\n",
    "    sleep 1\n",
    "done\n",
    "\n",
    "cat $scripts_dir/logs/jobIDs.bam2hits.log"
   ]
  },
  {
   "cell_type": "code",
   "execution_count": null,
   "metadata": {
    "ExecuteTime": {
     "end_time": "2019-04-17T14:59:39.794054Z",
     "start_time": "2019-04-17T14:59:39.451742Z"
    },
    "scrolled": true
   },
   "outputs": [],
   "source": [
    "%%script env list_dir=\"$list_dir\" scripts_dir=\"$scripts_dir\" bash\n",
    "\n",
    "sacct -j $(grep -o '[0-9]*' $scripts_dir/logs/jobIDs.bam2hits.log | paste -s -d \",\") | grep -v \"COMP\""
   ]
  },
  {
   "cell_type": "markdown",
   "metadata": {},
   "source": [
    "#### MMSEQ"
   ]
  },
  {
   "cell_type": "code",
   "execution_count": null,
   "metadata": {
    "ExecuteTime": {
     "end_time": "2019-04-04T19:51:47.557149Z",
     "start_time": "2019-04-04T19:51:47.389261Z"
    }
   },
   "outputs": [],
   "source": [
    "%%script env data_dir=\"$data_dir\" scripts_dir=\"$scripts_dir\" list_dir=\"$list_dir\" mmseq_dir=\"$mmseq_dir\" bash\n",
    "\n",
    "for tissue in $(cat ${list_dir}/tissuelist.txt)\n",
    "\n",
    "do\n",
    "    work_dir=\"$data_dir/${tissue}\"                \n",
    "    tissue_samplelist=\"$list_dir/${tissue}.samplelist.txt\"\n",
    "    \n",
    "    (\n",
    "    echo \"#!/bin/bash\"\n",
    "    echo \"#SBATCH -n 1\"\n",
    "    echo \"#SBATCH -c 1\"   \n",
    "    echo \"#SBATCH -N 1\"\n",
    "    echo \"#SBATCH -t 0-12:00\"\n",
    "    echo \"#SBATCH -p hoekstra,shared,general\"\n",
    "    echo \"#SBATCH --mem=6gb\"\n",
    "    echo \"#SBATCH --job-name MMSEQ\"\n",
    "    echo \"#SBATCH --array 1-18%18\"\n",
    "    echo \"#SBATCH -o $scripts_dir/logs/%x_%A_%a.out\"\n",
    "    echo \"#SBATCH -e $scripts_dir/logs/%x_%A_%a.err\"\n",
    "    echo \"\"\n",
    "    printf \"sample=\\$(awk -v line=\\$SLURM_ARRAY_TASK_ID 'NR==line {print \\$1; exit}' $tissue_samplelist) \\n\" \n",
    "    echo \"\"\n",
    "    printf \"if [ ! -f $work_dir/\\${sample}.MMSEQ.mmseq ]; then \\n \\\n",
    "    $mmseq_dir/mmseq \\\n",
    "    $work_dir/\\${sample}.bam2hits.hits \\\n",
    "    $work_dir/\\${sample}.MMSEQ; fi \\n\"\n",
    "    ) > ${scripts_dir}/MMSEQ.${tissue}.slurm\n",
    "\n",
    "done\n",
    "\n",
    "sed -i 's/--array 1-18%18/--array 1-11%11/' $scripts_dir/MMSEQ.wholebrain.slurm"
   ]
  },
  {
   "cell_type": "code",
   "execution_count": null,
   "metadata": {
    "ExecuteTime": {
     "end_time": "2019-04-17T15:01:15.478789Z",
     "start_time": "2019-04-17T14:59:56.668856Z"
    },
    "scrolled": true
   },
   "outputs": [],
   "source": [
    "%%script env list_dir=\"$list_dir\" scripts_dir=\"$scripts_dir\" bash\n",
    "\n",
    "for tissue in $(cat ${list_dir}/tissuelist.txt)\n",
    "\n",
    "do \n",
    "    printf \"$tissue -->\\t\" >> $scripts_dir/logs/jobIDs.MMSEQ.log\n",
    "    sbatch ${scripts_dir}/MMSEQ.${tissue}.slurm >> $scripts_dir/logs/jobIDs.MMSEQ.log\n",
    "    sleep 1\n",
    "done\n",
    "\n",
    "cat $scripts_dir/logs/jobIDs.MMSEQ.log"
   ]
  },
  {
   "cell_type": "code",
   "execution_count": null,
   "metadata": {
    "ExecuteTime": {
     "end_time": "2019-04-18T01:48:17.106033Z",
     "start_time": "2019-04-18T01:48:16.672435Z"
    },
    "scrolled": true
   },
   "outputs": [],
   "source": [
    "%%script env list_dir=\"$list_dir\" scripts_dir=\"$scripts_dir\" bash\n",
    "\n",
    "sacct -j $(grep -o '[0-9]*' $scripts_dir/logs/jobIDs.MMSEQ.log | paste -s -d \",\") | grep -v \"COMP\""
   ]
  },
  {
   "cell_type": "markdown",
   "metadata": {},
   "source": [
    "#### Extract shared features in parental species"
   ]
  },
  {
   "cell_type": "code",
   "execution_count": null,
   "metadata": {
    "ExecuteTime": {
     "end_time": "2019-12-04T21:33:52.682560Z",
     "start_time": "2019-12-04T21:33:47.078583Z"
    }
   },
   "outputs": [],
   "source": [
    "%%script env data_dir=\"$data_dir\" scripts_dir=\"$scripts_dir\" list_dir=\"$list_dir\" bash\n",
    "\n",
    "for tissue in $(cat $list_dir/tissuelist.txt)\n",
    "do\n",
    "    for sample in $(grep \"BW\\|PO\" $list_dir/${tissue}.samplelist.txt)\n",
    "    do\n",
    "\n",
    "    if [ ! -f $data_dir/$tissue/${sample}.MMSEQ.gene.shared.mmseq ]; then \n",
    "        awk 'BEGIN{OFS=\"\\t\"} NR<=2 {print} FNR==NR && !/APOLLO/ && !/None/ \\\n",
    "        {gsub(\"DEERMOUSE_G[0-9]+_|OLDFIELD_G[0-9]+_\",\"\",$1); idx[$1]=$0} \\\n",
    "        FNR!=NR {if ($1 in idx) print idx[$1]}' \\\n",
    "        $data_dir/$tissue/${sample}.MMSEQ.gene.mmseq \\\n",
    "        $list_dir/BW_PO.shared_genes_byName.genelist.txt \\\n",
    "        > $data_dir/$tissue/${sample}.MMSEQ.gene.shared.mmseq; fi\n",
    "    done\n",
    "done"
   ]
  },
  {
   "cell_type": "markdown",
   "metadata": {},
   "source": [
    "#### Get counts for parental alleles in F1s separately"
   ]
  },
  {
   "cell_type": "code",
   "execution_count": null,
   "metadata": {
    "ExecuteTime": {
     "end_time": "2019-12-04T21:37:06.473387Z",
     "start_time": "2019-12-04T21:37:00.060038Z"
    }
   },
   "outputs": [],
   "source": [
    "%%script env data_dir=\"$data_dir\" scripts_dir=\"$scripts_dir\" list_dir=\"$list_dir\" bash\n",
    "\n",
    "for tissue in $(cat $list_dir/tissuelist.txt)\n",
    "do\n",
    "    for sample in $(grep \"F1\" $list_dir/${tissue}.samplelist.txt)\n",
    "    do\n",
    "        if [ ! -f $data_dir/$tissue/${sample}.MMSEQ.gene.shared.BW.mmseq ]; then\n",
    "            awk 'BEGIN{OFS=\"\\t\"} NR<=2 {print} FNR==NR && /BW/ && !/APOLLO/ && !/None/ \\\n",
    "            {gsub(\"DEERMOUSE_G[0-9]+_|OLDFIELD_G[0-9]+_|_BW|_PO|BW_|PO_\",\"\",$1); \\\n",
    "            gsub(\"_BW|_PO|BW_|PO_\",\"\",$2); idx[$1]=$0} \\\n",
    "            FNR!=NR {if ($1 in idx) print idx[$1]}' \\\n",
    "            $data_dir/$tissue/${sample}.MMSEQ.gene.mmseq \\\n",
    "            $list_dir/BW_PO.shared_genes_byName.genelist.txt \\\n",
    "            > $data_dir/$tissue/${sample}.MMSEQ.gene.shared.BW.mmseq; fi\n",
    "    \n",
    "        if [ ! -f $data_dir/$tissue/${sample}.MMSEQ.gene.shared.PO.mmseq ]; then\n",
    "            awk 'BEGIN{OFS=\"\\t\"} NR<=2 {print} FNR==NR && /PO/ && !/APOLLO/ && !/None/ \\\n",
    "            {gsub(\"DEERMOUSE_G[0-9]+_|OLDFIELD_G[0-9]+_|_BW|_PO|BW_|PO_\",\"\",$1); \\\n",
    "            gsub(\"_BW|_PO|BW_|PO_\",\"\",$2); idx[$1]=$0} \\\n",
    "            FNR!=NR {if ($1 in idx) print idx[$1]}' \\\n",
    "            $data_dir/$tissue/${sample}.MMSEQ.gene.mmseq \\\n",
    "            $list_dir/BW_PO.shared_genes_byName.genelist.txt \\\n",
    "            > $data_dir/$tissue/${sample}.MMSEQ.gene.shared.PO.mmseq; fi\n",
    "    done\n",
    "done"
   ]
  },
  {
   "cell_type": "markdown",
   "metadata": {},
   "source": [
    "### Compare propability of models with MMDIFF"
   ]
  },
  {
   "cell_type": "markdown",
   "metadata": {},
   "source": [
    "#### Create design matrix files"
   ]
  },
  {
   "cell_type": "code",
   "execution_count": null,
   "metadata": {
    "ExecuteTime": {
     "end_time": "2019-04-09T00:32:00.834741Z",
     "start_time": "2019-04-09T00:32:00.656603Z"
    }
   },
   "outputs": [],
   "source": [
    "%%script env list_dir=\"$list_dir\" scripts_dir=\"$scripts_dir\" data_dir=\"$data_dir\" bash\n",
    "\n",
    "if [ ! -d $data_dir/MMDIFF/design_matrices ]; then mkdir -p $data_dir/MMDIFF/design_matrices; fi"
   ]
  },
  {
   "cell_type": "markdown",
   "metadata": {},
   "source": [
    "*NOTE*: One sample (F1_F_15462_hypothalamus) removed, because it was outlier in PCA. Manually changed design matrix files for controls (5 instead of 6 F1s)."
   ]
  },
  {
   "cell_type": "markdown",
   "metadata": {},
   "source": [
    "##### Single tissue - cons vs. cis with sex as covariate"
   ]
  },
  {
   "cell_type": "code",
   "execution_count": null,
   "metadata": {
    "ExecuteTime": {
     "end_time": "2019-05-09T19:15:48.330814Z",
     "start_time": "2019-05-09T19:15:47.459033Z"
    }
   },
   "outputs": [],
   "source": [
    "%%script env list_dir=\"$list_dir\" scripts_dir=\"$scripts_dir\" data_dir=\"$data_dir\" bash\n",
    "\n",
    "for tissue in $(grep -v \"wholebrain\" $list_dir/tissuelist.txt)\n",
    "do\n",
    "    samples=\"\"\n",
    "    samples+=$(find $data_dir/$tissue -type f -name \"BW*.MMSEQ.gene.shared.mmseq\" -exec basename {} \\;)\n",
    "    samples+=\" \"\n",
    "    samples+=$(find $data_dir/$tissue -type f -name \"PO*.MMSEQ.gene.shared.mmseq\" -exec basename {} \\;)\n",
    "    samples+=\" \"\n",
    "    samples+=$(find $data_dir/$tissue -type f -name \"F1*.MMSEQ.gene.shared.BW.mmseq\" -exec basename {} \\;)\n",
    "    samples+=\" \"\n",
    "    samples+=$(find $data_dir/$tissue -type f -name \"F1*.MMSEQ.gene.shared.PO.mmseq\" -exec basename {} \\;)\n",
    "    samples+=\" \"\n",
    "\n",
    "    if [ ! -f $data_dir/MMDIFF/design_matrices/${tissue}.mmdiff.ASE.cons_vs_cis.covarSex.matrix.txt ]; then\n",
    "        (echo $samples | tr \" \" \"\\n\" | grep -v \"F1_F_15462_hypothalamus\" | \\\n",
    "        awk 'BEGIN{OFS=\" \"; print \"# M; no. of rows = no. of observations\"} \\\n",
    "        /_M_/ {print \"0\"; next} \\\n",
    "        /_F_/ {print \"1\"; next}'\n",
    "        echo $samples | tr \" \" \"\\n\" | grep -v \"F1_F_15462_hypothalamus\" | \\\n",
    "        awk 'BEGIN{OFS=\" \"; print \"# C; no. of rows = no. of observations and no. of columns = 2 (one for each model)\"} \\\n",
    "        (/BW/ && !/F1/) {print \"0\",\"0\"; next} \\\n",
    "        (/PO/ && !/F1/) {print \"1\",\"1\"; next} \\\n",
    "        (/F1/ && /BW/) {print \"2\",\"2\"; next} \\\n",
    "        (/F1/ && /PO/) {print \"3\",\"3\"; next}' \n",
    "        printf '# P0(collapsed); no. of rows = no. of classes for model 0\\n'\n",
    "        printf '%s\\n' \"0.5\"\n",
    "        printf '%s\\n' \"0.5\"\n",
    "        printf '%s\\n' \"-0.5\"   \n",
    "        printf '%s\\n' \"-0.5\"    \n",
    "        printf '# P1(collapsed); no. of rows = no. of classes for model 1\\n'\n",
    "        printf '%s %s\\n' \"0.5\" \"0.5\"\n",
    "        printf '%s %s\\n' \"0.5\" \"-0.5\"\n",
    "        printf '%s %s\\n' \"-0.5\" \"0.5\"\n",
    "        printf '%s %s\\n' \"-0.5\" \"-0.5\") \\\n",
    "        > $data_dir/MMDIFF/design_matrices/${tissue}.mmdiff.ASE.cons_vs_cis.covarSex.matrix.txt; fi    \n",
    "done"
   ]
  },
  {
   "cell_type": "code",
   "execution_count": null,
   "metadata": {
    "ExecuteTime": {
     "end_time": "2019-05-09T19:18:35.065503Z",
     "start_time": "2019-05-09T19:18:34.184368Z"
    }
   },
   "outputs": [],
   "source": [
    "%%script env list_dir=\"$list_dir\" scripts_dir=\"$scripts_dir\" data_dir=\"$data_dir\" bash\n",
    "\n",
    "### CONTROL --> assign 3 BWs to POs and vice versa (same in F1 alleles) \n",
    "\n",
    "number=24  \n",
    "\n",
    "for tissue in $(grep -v \"wholebrain\" $list_dir/tissuelist.txt)\n",
    "do\n",
    "    samples=\"\"\n",
    "    samples+=$(find $data_dir/$tissue -type f -name \"BW*.MMSEQ.gene.shared.mmseq\" -exec basename {} \\;)\n",
    "    samples+=\" \"\n",
    "    samples+=$(find $data_dir/$tissue -type f -name \"PO*.MMSEQ.gene.shared.mmseq\" -exec basename {} \\;)\n",
    "    samples+=\" \"\n",
    "    samples+=$(find $data_dir/$tissue -type f -name \"F1*.MMSEQ.gene.shared.BW.mmseq\" -exec basename {} \\;)\n",
    "    samples+=\" \"\n",
    "    samples+=$(find $data_dir/$tissue -type f -name \"F1*.MMSEQ.gene.shared.PO.mmseq\" -exec basename {} \\;)\n",
    "    samples+=\" \"\n",
    "    \n",
    "    if [ ! -f $data_dir/MMDIFF/design_matrices/${tissue}.mmdiff.ASE.cons_vs_cis.covarSex.control.matrix.txt ]; then\n",
    "        (echo $samples | tr \" \" \"\\n\" | grep -v \"F1_F_15462_hypothalamus\" | \\\n",
    "        awk 'BEGIN{OFS=\" \"; print \"# M; no. of rows = no. of observations\"} \\\n",
    "        /_M_/ {print \"0\"; next} \\\n",
    "        /_F_/ {print \"1\"; next}'\n",
    "        printf '# C; no. of rows = no. of observations and no. of columns = 2 (one for each model)\\n'\n",
    "        printf '%.s0 0\\n1 1\\n' $(seq 1 $[$number/4])\n",
    "        printf '%.s2 2\\n3 3\\n' $(seq 1 $[$number/4])    \n",
    "        printf '# P0(collapsed); no. of rows = no. of classes for model 0\\n'\n",
    "        printf '%s\\n' \"0.5\"\n",
    "        printf '%s\\n' \"0.5\"\n",
    "        printf '%s\\n' \"-0.5\"   \n",
    "        printf '%s\\n' \"-0.5\"    \n",
    "        printf '# P1(collapsed); no. of rows = no. of classes for model 1\\n'\n",
    "        printf '%s %s\\n' \"0.5\" \"0.5\"\n",
    "        printf '%s %s\\n' \"0.5\" \"-0.5\"\n",
    "        printf '%s %s\\n' \"-0.5\" \"0.5\"\n",
    "        printf '%s %s\\n' \"-0.5\" \"-0.5\") \\\n",
    "        > $data_dir/MMDIFF/design_matrices/${tissue}.mmdiff.ASE.cons_vs_cis.covarSex.control.matrix.txt; fi    \n",
    "done"
   ]
  },
  {
   "cell_type": "markdown",
   "metadata": {},
   "source": [
    "##### Single tissue - cons vs. trans with sex as covariate"
   ]
  },
  {
   "cell_type": "code",
   "execution_count": null,
   "metadata": {
    "ExecuteTime": {
     "end_time": "2019-05-09T19:21:11.326715Z",
     "start_time": "2019-05-09T19:21:10.483592Z"
    }
   },
   "outputs": [],
   "source": [
    "%%script env list_dir=\"$list_dir\" scripts_dir=\"$scripts_dir\" data_dir=\"$data_dir\" bash\n",
    "\n",
    "for tissue in $(grep -v \"wholebrain\" $list_dir/tissuelist.txt)\n",
    "do\n",
    "    samples=\"\"\n",
    "    samples+=$(find $data_dir/$tissue -type f -name \"BW*.MMSEQ.gene.shared.mmseq\" -exec basename {} \\;)\n",
    "    samples+=\" \"\n",
    "    samples+=$(find $data_dir/$tissue -type f -name \"PO*.MMSEQ.gene.shared.mmseq\" -exec basename {} \\;)\n",
    "    samples+=\" \"\n",
    "    samples+=$(find $data_dir/$tissue -type f -name \"F1*.MMSEQ.gene.shared.BW.mmseq\" -exec basename {} \\;)\n",
    "    samples+=\" \"\n",
    "    samples+=$(find $data_dir/$tissue -type f -name \"F1*.MMSEQ.gene.shared.PO.mmseq\" -exec basename {} \\;)\n",
    "    samples+=\" \"\n",
    "\n",
    "    if [ ! -f $data_dir/MMDIFF/design_matrices/${tissue}.mmdiff.ASE.cons_vs_trans.covarSex.matrix.txt ]; then\n",
    "        (echo $samples | tr \" \" \"\\n\" | grep -v \"F1_F_15462_hypothalamus\" | \\\n",
    "        awk 'BEGIN{OFS=\" \"; print \"# M; no. of rows = no. of observations\"} \\\n",
    "        /_M_/ {print \"0\"; next} \\\n",
    "        /_F_/ {print \"1\"; next}'\n",
    "        echo $samples | tr \" \" \"\\n\" | grep -v \"F1_F_15462_hypothalamus\" | \\\n",
    "        awk 'BEGIN{OFS=\" \"; print \"# C; no. of rows = no. of observations and no. of columns = 2 (one for each model)\"} \\\n",
    "        (/BW/ && !/F1/) {print \"0\",\"0\"; next} \\\n",
    "        (/PO/ && !/F1/) {print \"1\",\"1\"; next} \\\n",
    "        (/F1/ && /BW/) {print \"2\",\"2\"; next} \\\n",
    "        (/F1/ && /PO/) {print \"3\",\"3\"; next}' \n",
    "        printf '# P0(collapsed); no. of rows = no. of classes for model 0\\n'\n",
    "        printf '%s\\n' \"0.5\"\n",
    "        printf '%s\\n' \"0.5\"\n",
    "        printf '%s\\n' \"-0.5\"   \n",
    "        printf '%s\\n' \"-0.5\"    \n",
    "        printf '# P1(collapsed); no. of rows = no. of classes for model 1\\n'\n",
    "        printf '%s %s\\n' \"0.5\" \"0.5\"\n",
    "        printf '%s %s\\n' \"0.5\" \"-0.5\"\n",
    "        printf '%s %s\\n' \"-0.5\" \"0\"\n",
    "        printf '%s %s\\n' \"-0.5\" \"0\") \\\n",
    "        > $data_dir/MMDIFF/design_matrices/${tissue}.mmdiff.ASE.cons_vs_trans.covarSex.matrix.txt; fi    \n",
    "done"
   ]
  },
  {
   "cell_type": "code",
   "execution_count": null,
   "metadata": {
    "ExecuteTime": {
     "end_time": "2019-05-09T19:21:38.728973Z",
     "start_time": "2019-05-09T19:21:37.938250Z"
    }
   },
   "outputs": [],
   "source": [
    "%%script env list_dir=\"$list_dir\" scripts_dir=\"$scripts_dir\" data_dir=\"$data_dir\" bash\n",
    "\n",
    "### CONTROL --> assign 3 BWs to POs and vice versa (same in F1 alleles) \n",
    "\n",
    "number=24  \n",
    "\n",
    "for tissue in $(grep -v \"wholebrain\" $list_dir/tissuelist.txt)\n",
    "do\n",
    "    samples=\"\"\n",
    "    samples+=$(find $data_dir/$tissue -type f -name \"BW*.MMSEQ.gene.shared.mmseq\" -exec basename {} \\;)\n",
    "    samples+=\" \"\n",
    "    samples+=$(find $data_dir/$tissue -type f -name \"PO*.MMSEQ.gene.shared.mmseq\" -exec basename {} \\;)\n",
    "    samples+=\" \"\n",
    "    samples+=$(find $data_dir/$tissue -type f -name \"F1*.MMSEQ.gene.shared.BW.mmseq\" -exec basename {} \\;)\n",
    "    samples+=\" \"\n",
    "    samples+=$(find $data_dir/$tissue -type f -name \"F1*.MMSEQ.gene.shared.PO.mmseq\" -exec basename {} \\;)\n",
    "    samples+=\" \"\n",
    "    \n",
    "    if [ ! -f $data_dir/MMDIFF/design_matrices/${tissue}.mmdiff.ASE.cons_vs_trans.covarSex.control.matrix.txt ]; then\n",
    "        (echo $samples | tr \" \" \"\\n\" | grep -v \"F1_F_15462_hypothalamus\" | \\\n",
    "        awk 'BEGIN{OFS=\" \"; print \"# M; no. of rows = no. of observations\"} \\\n",
    "        /_M_/ {print \"0\"; next} \\\n",
    "        /_F_/ {print \"1\"; next}'\n",
    "        printf '# C; no. of rows = no. of observations and no. of columns = 2 (one for each model)\\n'\n",
    "        printf '%.s0 0\\n1 1\\n' $(seq 1 $[$number/4])\n",
    "        printf '%.s2 2\\n3 3\\n' $(seq 1 $[$number/4])    \n",
    "        printf '# P0(collapsed); no. of rows = no. of classes for model 0\\n'\n",
    "        printf '%s\\n' \"0.5\"\n",
    "        printf '%s\\n' \"0.5\"\n",
    "        printf '%s\\n' \"-0.5\"   \n",
    "        printf '%s\\n' \"-0.5\"    \n",
    "        printf '# P1(collapsed); no. of rows = no. of classes for model 1\\n'\n",
    "        printf '%s %s\\n' \"0.5\" \"0.5\"\n",
    "        printf '%s %s\\n' \"0.5\" \"-0.5\"\n",
    "        printf '%s %s\\n' \"-0.5\" \"0\"\n",
    "        printf '%s %s\\n' \"-0.5\" \"0\") \\\n",
    "        > $data_dir/MMDIFF/design_matrices/${tissue}.mmdiff.ASE.cons_vs_trans.covarSex.control.matrix.txt; fi    \n",
    "done"
   ]
  },
  {
   "cell_type": "markdown",
   "metadata": {},
   "source": [
    "##### Single tissue - cons vs. cistrans with sex as covariate"
   ]
  },
  {
   "cell_type": "code",
   "execution_count": null,
   "metadata": {
    "ExecuteTime": {
     "end_time": "2019-05-09T19:22:39.075902Z",
     "start_time": "2019-05-09T19:22:38.212870Z"
    }
   },
   "outputs": [],
   "source": [
    "%%script env list_dir=\"$list_dir\" scripts_dir=\"$scripts_dir\" data_dir=\"$data_dir\" bash\n",
    "\n",
    "for tissue in $(grep -v \"wholebrain\" $list_dir/tissuelist.txt)\n",
    "do\n",
    "    samples=\"\"\n",
    "    samples+=$(find $data_dir/$tissue -type f -name \"BW*.MMSEQ.gene.shared.mmseq\" -exec basename {} \\;)\n",
    "    samples+=\" \"\n",
    "    samples+=$(find $data_dir/$tissue -type f -name \"PO*.MMSEQ.gene.shared.mmseq\" -exec basename {} \\;)\n",
    "    samples+=\" \"\n",
    "    samples+=$(find $data_dir/$tissue -type f -name \"F1*.MMSEQ.gene.shared.BW.mmseq\" -exec basename {} \\;)\n",
    "    samples+=\" \"\n",
    "    samples+=$(find $data_dir/$tissue -type f -name \"F1*.MMSEQ.gene.shared.PO.mmseq\" -exec basename {} \\;)\n",
    "    samples+=\" \"\n",
    "\n",
    "    if [ ! -f $data_dir/MMDIFF/design_matrices/${tissue}.mmdiff.ASE.cons_vs_cistrans.covarSex.matrix.txt ]; then\n",
    "        (echo $samples | tr \" \" \"\\n\" | grep -v \"F1_F_15462_hypothalamus\" | \\\n",
    "        awk 'BEGIN{OFS=\" \"; print \"# M; no. of rows = no. of observations\"} \\\n",
    "        /_M_/ {print \"0\"; next} \\\n",
    "        /_F_/ {print \"1\"; next}'\n",
    "        echo $samples | tr \" \" \"\\n\" | grep -v \"F1_F_15462_hypothalamus\" | \\\n",
    "        awk 'BEGIN{OFS=\" \"; print \"# C; no. of rows = no. of observations and no. of columns = 2 (one for each model)\"} \\\n",
    "        (/BW/ && !/F1/) {print \"0\",\"0\"; next} \\\n",
    "        (/PO/ && !/F1/) {print \"1\",\"1\"; next} \\\n",
    "        (/F1/ && /BW/) {print \"2\",\"2\"; next} \\\n",
    "        (/F1/ && /PO/) {print \"3\",\"3\"; next}' \n",
    "        printf '# P0(collapsed); no. of rows = no. of classes for model 0\\n'\n",
    "        printf '%s\\n' \"0.5\"\n",
    "        printf '%s\\n' \"0.5\"\n",
    "        printf '%s\\n' \"-0.5\"   \n",
    "        printf '%s\\n' \"-0.5\"    \n",
    "        printf '# P1(collapsed); no. of rows = no. of classes for model 1\\n'\n",
    "        printf '%s %s %s\\n' \"0.5\" \"0.5 \"\"0\"\n",
    "        printf '%s %s %s\\n' \"0.5\" \"-0.5\" \"0\"\n",
    "        printf '%s %s %s\\n' \"-0.5\" \"0\" \"0.5\"\n",
    "        printf '%s %s %s\\n' \"-0.5\" \"0\" \"-0.5\") \\\n",
    "        > $data_dir/MMDIFF/design_matrices/${tissue}.mmdiff.ASE.cons_vs_cistrans.covarSex.matrix.txt; fi    \n",
    "done"
   ]
  },
  {
   "cell_type": "code",
   "execution_count": null,
   "metadata": {
    "ExecuteTime": {
     "end_time": "2019-05-09T19:22:52.561652Z",
     "start_time": "2019-05-09T19:22:51.783888Z"
    }
   },
   "outputs": [],
   "source": [
    "%%script env list_dir=\"$list_dir\" scripts_dir=\"$scripts_dir\" data_dir=\"$data_dir\" bash\n",
    "\n",
    "### CONTROL --> assign 3 BWs to POs and vice versa (same in F1 alleles) \n",
    "\n",
    "number=24  \n",
    "\n",
    "for tissue in $(grep -v \"wholebrain\" $list_dir/tissuelist.txt)\n",
    "do\n",
    "    samples=\"\"\n",
    "    samples+=$(find $data_dir/$tissue -type f -name \"BW*.MMSEQ.gene.shared.mmseq\" -exec basename {} \\;)\n",
    "    samples+=\" \"\n",
    "    samples+=$(find $data_dir/$tissue -type f -name \"PO*.MMSEQ.gene.shared.mmseq\" -exec basename {} \\;)\n",
    "    samples+=\" \"\n",
    "    samples+=$(find $data_dir/$tissue -type f -name \"F1*.MMSEQ.gene.shared.BW.mmseq\" -exec basename {} \\;)\n",
    "    samples+=\" \"\n",
    "    samples+=$(find $data_dir/$tissue -type f -name \"F1*.MMSEQ.gene.shared.PO.mmseq\" -exec basename {} \\;)\n",
    "    samples+=\" \"\n",
    "    \n",
    "    if [ ! -f $data_dir/MMDIFF/design_matrices/${tissue}.mmdiff.ASE.cons_vs_cistrans.covarSex.control.matrix.txt ]; then\n",
    "        (echo $samples | tr \" \" \"\\n\" | grep -v \"F1_F_15462_hypothalamus\" | \\\n",
    "        awk 'BEGIN{OFS=\" \"; print \"# M; no. of rows = no. of observations\"} \\\n",
    "        /_M_/ {print \"0\"; next} \\\n",
    "        /_F_/ {print \"1\"; next}'\n",
    "        printf '# C; no. of rows = no. of observations and no. of columns = 2 (one for each model)\\n'\n",
    "        printf '%.s0 0\\n1 1\\n' $(seq 1 $[$number/4])\n",
    "        printf '%.s2 2\\n3 3\\n' $(seq 1 $[$number/4])    \n",
    "        printf '# P0(collapsed); no. of rows = no. of classes for model 0\\n'\n",
    "        printf '%s\\n' \"0.5\"\n",
    "        printf '%s\\n' \"0.5\"\n",
    "        printf '%s\\n' \"-0.5\"   \n",
    "        printf '%s\\n' \"-0.5\"    \n",
    "        printf '# P1(collapsed); no. of rows = no. of classes for model 1\\n'\n",
    "        printf '%s %s %s\\n' \"0.5\" \"0.5 \"\"0\"\n",
    "        printf '%s %s %s\\n' \"0.5\" \"-0.5\" \"0\"\n",
    "        printf '%s %s %s\\n' \"-0.5\" \"0\" \"0.5\"\n",
    "        printf '%s %s %s\\n' \"-0.5\" \"0\" \"-0.5\") \\\n",
    "        > $data_dir/MMDIFF/design_matrices/${tissue}.mmdiff.ASE.cons_vs_cistrans.covarSex.control.matrix.txt; fi    \n",
    "done"
   ]
  },
  {
   "cell_type": "markdown",
   "metadata": {},
   "source": [
    "##### Single tissue - cons vs. comp with sex as covariate"
   ]
  },
  {
   "cell_type": "code",
   "execution_count": null,
   "metadata": {
    "ExecuteTime": {
     "end_time": "2019-05-09T19:23:06.982812Z",
     "start_time": "2019-05-09T19:23:06.210774Z"
    }
   },
   "outputs": [],
   "source": [
    "%%script env list_dir=\"$list_dir\" scripts_dir=\"$scripts_dir\" data_dir=\"$data_dir\" bash\n",
    "\n",
    "for tissue in $(grep -v \"wholebrain\" $list_dir/tissuelist.txt)\n",
    "do\n",
    "    samples=\"\"\n",
    "    samples+=$(find $data_dir/$tissue -type f -name \"BW*.MMSEQ.gene.shared.mmseq\" -exec basename {} \\;)\n",
    "    samples+=\" \"\n",
    "    samples+=$(find $data_dir/$tissue -type f -name \"PO*.MMSEQ.gene.shared.mmseq\" -exec basename {} \\;)\n",
    "    samples+=\" \"\n",
    "    samples+=$(find $data_dir/$tissue -type f -name \"F1*.MMSEQ.gene.shared.BW.mmseq\" -exec basename {} \\;)\n",
    "    samples+=\" \"\n",
    "    samples+=$(find $data_dir/$tissue -type f -name \"F1*.MMSEQ.gene.shared.PO.mmseq\" -exec basename {} \\;)\n",
    "    samples+=\" \"\n",
    "\n",
    "    if [ ! -f $data_dir/MMDIFF/design_matrices/${tissue}.mmdiff.ASE.cons_vs_comp.covarSex.matrix.txt ]; then\n",
    "        (echo $samples | tr \" \" \"\\n\" | grep -v \"F1_F_15462_hypothalamus\" | \\\n",
    "        awk 'BEGIN{OFS=\" \"; print \"# M; no. of rows = no. of observations\"} \\\n",
    "        /_M_/ {print \"0\"; next} \\\n",
    "        /_F_/ {print \"1\"; next}'\n",
    "        echo $samples | tr \" \" \"\\n\" | grep -v \"F1_F_15462_hypothalamus\" | \\\n",
    "        awk 'BEGIN{OFS=\" \"; print \"# C; no. of rows = no. of observations and no. of columns = 2 (one for each model)\"} \\\n",
    "        (/BW/ && !/F1/) {print \"0\",\"0\"; next} \\\n",
    "        (/PO/ && !/F1/) {print \"1\",\"1\"; next} \\\n",
    "        (/F1/ && /BW/) {print \"2\",\"2\"; next} \\\n",
    "        (/F1/ && /PO/) {print \"3\",\"3\"; next}' \n",
    "        printf '# P0(collapsed); no. of rows = no. of classes for model 0\\n'\n",
    "        printf '%s\\n' \"0.5\"\n",
    "        printf '%s\\n' \"0.5\"\n",
    "        printf '%s\\n' \"-0.5\"   \n",
    "        printf '%s\\n' \"-0.5\"    \n",
    "        printf '# P1(collapsed); no. of rows = no. of classes for model 1\\n'\n",
    "        printf '%s %s\\n' \"0.5\" \"0\"\n",
    "        printf '%s %s\\n' \"0.5\" \"0\"\n",
    "        printf '%s %s\\n' \"-0.5\" \"0.5\"\n",
    "        printf '%s %s\\n' \"-0.5\" \"-0.5\") \\\n",
    "        > $data_dir/MMDIFF/design_matrices/${tissue}.mmdiff.ASE.cons_vs_comp.covarSex.matrix.txt; fi    \n",
    "done"
   ]
  },
  {
   "cell_type": "code",
   "execution_count": null,
   "metadata": {
    "ExecuteTime": {
     "end_time": "2019-05-09T19:23:19.262696Z",
     "start_time": "2019-05-09T19:23:18.519443Z"
    }
   },
   "outputs": [],
   "source": [
    "%%script env list_dir=\"$list_dir\" scripts_dir=\"$scripts_dir\" data_dir=\"$data_dir\" bash\n",
    "\n",
    "### CONTROL --> assign 3 BWs to POs and vice versa (same in F1 alleles) \n",
    "\n",
    "number=24  \n",
    "\n",
    "for tissue in $(grep -v \"wholebrain\" $list_dir/tissuelist.txt)\n",
    "do\n",
    "    samples=\"\"\n",
    "    samples+=$(find $data_dir/$tissue -type f -name \"BW*.MMSEQ.gene.shared.mmseq\" -exec basename {} \\;)\n",
    "    samples+=\" \"\n",
    "    samples+=$(find $data_dir/$tissue -type f -name \"PO*.MMSEQ.gene.shared.mmseq\" -exec basename {} \\;)\n",
    "    samples+=\" \"\n",
    "    samples+=$(find $data_dir/$tissue -type f -name \"F1*.MMSEQ.gene.shared.BW.mmseq\" -exec basename {} \\;)\n",
    "    samples+=\" \"\n",
    "    samples+=$(find $data_dir/$tissue -type f -name \"F1*.MMSEQ.gene.shared.PO.mmseq\" -exec basename {} \\;)\n",
    "    samples+=\" \"\n",
    "    \n",
    "    if [ ! -f $data_dir/MMDIFF/design_matrices/${tissue}.mmdiff.ASE.cons_vs_comp.covarSex.control.matrix.txt ]; then\n",
    "        (echo $samples | tr \" \" \"\\n\" | grep -v \"F1_F_15462_hypothalamus\" | \\\n",
    "        awk 'BEGIN{OFS=\" \"; print \"# M; no. of rows = no. of observations\"} \\\n",
    "        /_M_/ {print \"0\"; next} \\\n",
    "        /_F_/ {print \"1\"; next}'\n",
    "        printf '# C; no. of rows = no. of observations and no. of columns = 2 (one for each model)\\n'\n",
    "        printf '%.s0 0\\n1 1\\n' $(seq 1 $[$number/4])\n",
    "        printf '%.s2 2\\n3 3\\n' $(seq 1 $[$number/4])    \n",
    "        printf '# P0(collapsed); no. of rows = no. of classes for model 0\\n'\n",
    "        printf '%s\\n' \"0.5\"\n",
    "        printf '%s\\n' \"0.5\"\n",
    "        printf '%s\\n' \"-0.5\"   \n",
    "        printf '%s\\n' \"-0.5\"    \n",
    "        printf '# P1(collapsed); no. of rows = no. of classes for model 1\\n'\n",
    "        printf '%s %s\\n' \"0.5\" \"0\"\n",
    "        printf '%s %s\\n' \"0.5\" \"0\"\n",
    "        printf '%s %s\\n' \"-0.5\" \"0.5\"\n",
    "        printf '%s %s\\n' \"-0.5\" \"-0.5\") \\\n",
    "        > $data_dir/MMDIFF/design_matrices/${tissue}.mmdiff.ASE.cons_vs_comp.covarSex.control.matrix.txt; fi    \n",
    "done"
   ]
  },
  {
   "cell_type": "markdown",
   "metadata": {},
   "source": [
    "#### Run MMDIFF"
   ]
  },
  {
   "cell_type": "markdown",
   "metadata": {},
   "source": [
    "##### Single tissue with sex as covariate"
   ]
  },
  {
   "cell_type": "code",
   "execution_count": null,
   "metadata": {
    "ExecuteTime": {
     "end_time": "2023-08-29T15:41:15.414006Z",
     "start_time": "2023-08-29T15:41:14.203461Z"
    },
    "scrolled": true
   },
   "outputs": [],
   "source": [
    "%%script env scripts_dir=\"$scripts_dir\" list_dir=\"$list_dir\" data_dir=\"$data_dir\" mmseq_dir=\"$mmseq_dir\" bash\n",
    "\n",
    "models=\"cons_vs_cis cons_vs_trans cons_vs_cistrans cons_vs_comp\"\n",
    "\n",
    "for model in $models\n",
    "do\n",
    "\n",
    "    for tissue in $(grep -v \"wholebrain\" $list_dir/tissuelist.txt)\n",
    "    do\n",
    "        samples=\"\"\n",
    "        samples+=$(find $data_dir/$tissue -type f -name \"BW*.MMSEQ.gene.shared.mmseq\")\n",
    "        samples+=\" \"\n",
    "        samples+=$(find $data_dir/$tissue -type f -name \"PO*.MMSEQ.gene.shared.mmseq\")\n",
    "        samples+=\" \"\n",
    "        samples+=$(find $data_dir/$tissue -type f -name \"F1*.MMSEQ.gene.shared.BW.mmseq\" | grep -v \"F1_F_15462_hypothalamus\")\n",
    "        samples+=\" \"\n",
    "        samples+=$(find $data_dir/$tissue -type f -name \"F1*.MMSEQ.gene.shared.PO.mmseq\" | grep -v \"F1_F_15462_hypothalamus\")\n",
    "        samples+=\" \"\n",
    "        \n",
    "        if [ ! -f $data_dir/MMDIFF/out_mmdiff.${tissue}.ASE.${model}.covarSex.seed123.out ]; then\n",
    "            printf \"submitting job for %s %s:\\t\" $tissue $model\n",
    "            sbatch -n 1 -c 8 --contiguous --mem=500mb --time=00-12:00 -p hoekstra,shared,serial_requeue --job-name mmdiff \\\n",
    "            -e $data_dir/MMDIFF/out_mmdiff.${tissue}.ASE.${model}.covarSex.seed123.log \\\n",
    "            -o $data_dir/MMDIFF/out_mmdiff.${tissue}.ASE.${model}.covarSex.seed123.stdout \\\n",
    "            --wrap=\"OMP_NUM_THREADS=8 $mmseq_dir/mmdiff \\\n",
    "            -burnin 10240 -iter 25600 -seed 123 \\\n",
    "            -m $data_dir/MMDIFF/design_matrices/${tissue}.mmdiff.ASE.${model}.covarSex.matrix.txt \\\n",
    "            $(echo $samples) \\\n",
    "            > $data_dir/MMDIFF/out_mmdiff.${tissue}.ASE.${model}.covarSex.seed123.out\"\n",
    "            sleep 1; fi        \n",
    "    done\n",
    "done"
   ]
  },
  {
   "cell_type": "code",
   "execution_count": null,
   "metadata": {
    "ExecuteTime": {
     "end_time": "2023-08-24T17:58:40.025044Z",
     "start_time": "2023-08-24T17:57:46.207219Z"
    },
    "scrolled": true
   },
   "outputs": [],
   "source": [
    "%%script env scripts_dir=\"$scripts_dir\" list_dir=\"$list_dir\" data_dir=\"$data_dir\" mmseq_dir=\"$mmseq_dir\" bash\n",
    "\n",
    "### CONTROLS\n",
    "\n",
    "models=\"cons_vs_cis cons_vs_trans cons_vs_cistrans cons_vs_comp\"\n",
    "\n",
    "for model in $models\n",
    "do\n",
    "\n",
    "    for tissue in $(grep -v \"wholebrain\" $list_dir/tissuelist.txt)\n",
    "    do\n",
    "        samples=\"\"\n",
    "        samples+=$(find $data_dir/$tissue -type f -name \"BW*.MMSEQ.gene.shared.mmseq\")\n",
    "        samples+=\" \"\n",
    "        samples+=$(find $data_dir/$tissue -type f -name \"PO*.MMSEQ.gene.shared.mmseq\")\n",
    "        samples+=\" \"\n",
    "        samples+=$(find $data_dir/$tissue -type f -name \"F1*.MMSEQ.gene.shared.BW.mmseq\" | grep -v \"F1_F_15462_hypothalamus\")\n",
    "        samples+=\" \"\n",
    "        samples+=$(find $data_dir/$tissue -type f -name \"F1*.MMSEQ.gene.shared.PO.mmseq\" | grep -v \"F1_F_15462_hypothalamus\")\n",
    "        samples+=\" \"\n",
    "        \n",
    "        if [ ! -f $data_dir/MMDIFF/out_mmdiff.${tissue}.ASE.${model}.covarSex.control.out ]; then\n",
    "            printf \"submitting job for %s %s:\\t\" $tissue $model\n",
    "            sbatch -n 1 -c 8 --contiguous --mem=500mb --time=00-12:00 -p hoekstra,shared,serial_requeue --job-name mmdiff \\\n",
    "            -e $data_dir/MMDIFF/out_mmdiff.${tissue}.ASE.${model}.covarSex.control.err \\\n",
    "            -o $data_dir/MMDIFF/out_mmdiff.${tissue}.ASE.${model}.covarSex.control.log \\\n",
    "            --wrap=\"OMP_NUM_THREADS=8 $mmseq_dir/mmdiff \\\n",
    "            -burnin 10240 -iter 25600 -seed 1234 \\\n",
    "            -m $data_dir/MMDIFF/design_matrices/${tissue}.mmdiff.ASE.${model}.covarSex.control.matrix.txt \\\n",
    "            $(echo $samples) \\\n",
    "            > $data_dir/MMDIFF/out_mmdiff.${tissue}.ASE.${model}.covarSex.control.out\"\n",
    "            sleep 1; fi        \n",
    "    done\n",
    "done"
   ]
  },
  {
   "cell_type": "markdown",
   "metadata": {},
   "source": [
    "##### Bootstrapping"
   ]
  },
  {
   "cell_type": "code",
   "execution_count": null,
   "metadata": {
    "ExecuteTime": {
     "end_time": "2019-04-18T12:37:57.597785Z",
     "start_time": "2019-04-18T12:32:56.981353Z"
    },
    "scrolled": true
   },
   "outputs": [],
   "source": [
    "%%script env scripts_dir=\"$scripts_dir\" list_dir=\"$list_dir\" data_dir=\"$data_dir\" mmseq_dir=\"$mmseq_dir\" bash\n",
    "\n",
    "if [ ! -d $data_dir/MMDIFF/bootstrapping ]; then mkdir $data_dir/MMDIFF/bootstrapping; fi\n",
    "\n",
    "tissues=\"cerebellum mPFC\"\n",
    "\n",
    "for tissue in $tissues\n",
    "do\n",
    "\n",
    "    for rep in {001..010}\n",
    "    do\n",
    "        \n",
    "        if [ ! -d $data_dir/MMDIFF/bootstrapping/BSrep_${rep} ]; then mkdir $data_dir/MMDIFF/bootstrapping/BSrep_${rep}; fi\n",
    "    \n",
    "        samples=\"\"\n",
    "        samples+=$(find $data_dir/$tissue -type f -name \"BW*.MMSEQ.gene.shared.mmseq\" \\\n",
    "        | paste -s  -d \" \" | awk '{print $'\"$((1+RANDOM%6))\"',$'\"$((1+RANDOM%6))\"',$'\"$((1+RANDOM%6))\"',\\\n",
    "        $'\"$((1+RANDOM%6))\"',$'\"$((1+RANDOM%6))\"',$'\"$((1+RANDOM%6))\"'}')\n",
    "        samples+=\" \"\n",
    "        samples+=$(find $data_dir/$tissue -type f -name \"PO*.MMSEQ.gene.shared.mmseq\" \\\n",
    "        | paste -s  -d \" \" | awk '{print $'\"$((1+RANDOM%6))\"',$'\"$((1+RANDOM%6))\"',$'\"$((1+RANDOM%6))\"',\\\n",
    "        $'\"$((1+RANDOM%6))\"',$'\"$((1+RANDOM%6))\"',$'\"$((1+RANDOM%6))\"'}')\n",
    "        samples+=\" \"\n",
    "        samples+=$(find $data_dir/$tissue -type f -name \"F1*.MMSEQ.gene.shared.BW.mmseq\" \\\n",
    "        | paste -s  -d \" \" | awk '{print $'\"$((1+RANDOM%6))\"',$'\"$((1+RANDOM%6))\"',$'\"$((1+RANDOM%6))\"',\\\n",
    "        $'\"$((1+RANDOM%6))\"',$'\"$((1+RANDOM%6))\"',$'\"$((1+RANDOM%6))\"'}')\n",
    "        samples+=\" \"\n",
    "        samples+=$(find $data_dir/$tissue -type f -name \"F1*.MMSEQ.gene.shared.PO.mmseq\" \\\n",
    "        | paste -s  -d \" \" | awk '{print $'\"$((1+RANDOM%6))\"',$'\"$((1+RANDOM%6))\"',$'\"$((1+RANDOM%6))\"',\\\n",
    "        $'\"$((1+RANDOM%6))\"',$'\"$((1+RANDOM%6))\"',$'\"$((1+RANDOM%6))\"'}')\n",
    " \n",
    "        model=\"cons_vs_cis\"\n",
    "    \n",
    "        if [ ! -f $data_dir/MMDIFF/bootstrapping/BSrep_${rep}/${tissue}.mmdiff.ASE.${model}.covarSex.matrix.BSrep_${rep}.txt ]; then\n",
    "            (echo $samples | sed \"s,/n/scratchlfs/hoekstra_lab/akautt/projects/Peromyscus_RNAseq_brain/data/${tissue}/,,g\" | tr \" \" \"\\n\" | \\\n",
    "            awk 'BEGIN{OFS=\" \"; print \"# M; no. of rows = no. of observations\"} \\\n",
    "            /_M_/ {print \"0\"; next} \\\n",
    "            /_F_/ {print \"1\"; next}'\n",
    "            echo $samples | sed \"s,/n/scratchlfs/hoekstra_lab/akautt/projects/Peromyscus_RNAseq_brain/data/${tissue}/,,g\" | tr \" \" \"\\n\" | \\\n",
    "            awk 'BEGIN{OFS=\" \"; print \"# C; no. of rows = no. of observations and no. of columns = 2 (one for each model)\"} \\\n",
    "            (/BW/ && !/F1/) {print \"0\",\"0\"; next} \\\n",
    "            (/PO/ && !/F1/) {print \"1\",\"1\"; next} \\\n",
    "            (/F1/ && /BW/) {print \"2\",\"2\"; next} \\\n",
    "            (/F1/ && /PO/) {print \"3\",\"3\"; next}' \n",
    "            printf '# P0(collapsed); no. of rows = no. of classes for model 0\\n'\n",
    "            printf '%s\\n' \"0.5\"\n",
    "            printf '%s\\n' \"0.5\"\n",
    "            printf '%s\\n' \"-0.5\"   \n",
    "            printf '%s\\n' \"-0.5\"    \n",
    "            printf '# P1(collapsed); no. of rows = no. of classes for model 1\\n'\n",
    "            printf '%s %s\\n' \"0.5\" \"0.5\"\n",
    "            printf '%s %s\\n' \"0.5\" \"-0.5\"\n",
    "            printf '%s %s\\n' \"-0.5\" \"0.5\"\n",
    "            printf '%s %s\\n' \"-0.5\" \"-0.5\"\n",
    "            ) > $data_dir/MMDIFF/bootstrapping/BSrep_${rep}/${tissue}.mmdiff.ASE.${model}.covarSex.matrix.BSrep_${rep}.txt; fi    \n",
    "\n",
    "        model=\"cons_vs_trans\"\n",
    "    \n",
    "        if [ ! -f $data_dir/MMDIFF/bootstrapping/BSrep_${rep}/${tissue}.mmdiff.ASE.${model}.covarSex.matrix.BSrep_${rep}.txt ]; then\n",
    "            (echo $samples | sed \"s,/n/scratchlfs/hoekstra_lab/akautt/projects/Peromyscus_RNAseq_brain/data/${tissue}/,,g\" | tr \" \" \"\\n\" | \\\n",
    "            awk 'BEGIN{OFS=\" \"; print \"# M; no. of rows = no. of observations\"} \\\n",
    "            /_M_/ {print \"0\"; next} \\\n",
    "            /_F_/ {print \"1\"; next}'\n",
    "            echo $samples | sed \"s,/n/scratchlfs/hoekstra_lab/akautt/projects/Peromyscus_RNAseq_brain/data/${tissue}/,,g\" | tr \" \" \"\\n\" | \\\n",
    "            awk 'BEGIN{OFS=\" \"; print \"# C; no. of rows = no. of observations and no. of columns = 2 (one for each model)\"} \\\n",
    "            (/BW/ && !/F1/) {print \"0\",\"0\"; next} \\\n",
    "            (/PO/ && !/F1/) {print \"1\",\"1\"; next} \\\n",
    "            (/F1/ && /BW/) {print \"2\",\"2\"; next} \\\n",
    "            (/F1/ && /PO/) {print \"3\",\"3\"; next}' \n",
    "            printf '# P0(collapsed); no. of rows = no. of classes for model 0\\n'\n",
    "            printf '%s\\n' \"0.5\"\n",
    "            printf '%s\\n' \"0.5\"\n",
    "            printf '%s\\n' \"-0.5\"   \n",
    "            printf '%s\\n' \"-0.5\"    \n",
    "            printf '# P1(collapsed); no. of rows = no. of classes for model 1\\n'\n",
    "            printf '%s %s\\n' \"0.5\" \"0.5\"\n",
    "            printf '%s %s\\n' \"0.5\" \"-0.5\"\n",
    "            printf '%s %s\\n' \"-0.5\" \"0\"\n",
    "            printf '%s %s\\n' \"-0.5\" \"0\"\n",
    "            ) > $data_dir/MMDIFF/bootstrapping/BSrep_${rep}/${tissue}.mmdiff.ASE.${model}.covarSex.matrix.BSrep_${rep}.txt; fi    \n",
    "\n",
    "        model=\"cons_vs_cistrans\"\n",
    "    \n",
    "        if [ ! -f $data_dir/MMDIFF/bootstrapping/BSrep_${rep}/${tissue}.mmdiff.ASE.${model}.covarSex.matrix.BSrep_${rep}.txt ]; then\n",
    "            (echo $samples | sed \"s,/n/scratchlfs/hoekstra_lab/akautt/projects/Peromyscus_RNAseq_brain/data/${tissue}/,,g\" | tr \" \" \"\\n\" | \\\n",
    "            awk 'BEGIN{OFS=\" \"; print \"# M; no. of rows = no. of observations\"} \\\n",
    "            /_M_/ {print \"0\"; next} \\\n",
    "            /_F_/ {print \"1\"; next}'\n",
    "            echo $samples | sed \"s,/n/scratchlfs/hoekstra_lab/akautt/projects/Peromyscus_RNAseq_brain/data/${tissue}/,,g\" | tr \" \" \"\\n\" | \\\n",
    "            awk 'BEGIN{OFS=\" \"; print \"# C; no. of rows = no. of observations and no. of columns = 2 (one for each model)\"} \\\n",
    "            (/BW/ && !/F1/) {print \"0\",\"0\"; next} \\\n",
    "            (/PO/ && !/F1/) {print \"1\",\"1\"; next} \\\n",
    "            (/F1/ && /BW/) {print \"2\",\"2\"; next} \\\n",
    "            (/F1/ && /PO/) {print \"3\",\"3\"; next}' \n",
    "            printf '# P0(collapsed); no. of rows = no. of classes for model 0\\n'\n",
    "            printf '%s\\n' \"0.5\"\n",
    "            printf '%s\\n' \"0.5\"\n",
    "            printf '%s\\n' \"-0.5\"   \n",
    "            printf '%s\\n' \"-0.5\"    \n",
    "            printf '# P1(collapsed); no. of rows = no. of classes for model 1\\n'\n",
    "            printf '%s %s %s\\n' \"0.5\" \"0.5\" \"0\"\n",
    "            printf '%s %s %s\\n' \"0.5\" \"-0.5\" \"0\"\n",
    "            printf '%s %s %s\\n' \"-0.5\" \"0\" \"0.5\"\n",
    "            printf '%s %s %s\\n' \"-0.5\" \"0\" \"-0.5\"\n",
    "            ) > $data_dir/MMDIFF/bootstrapping/BSrep_${rep}/${tissue}.mmdiff.ASE.${model}.covarSex.matrix.BSrep_${rep}.txt; fi    \n",
    "\n",
    "        model=\"cons_vs_comp\"\n",
    "    \n",
    "        if [ ! -f $data_dir/MMDIFF/bootstrapping/BSrep_${rep}/${tissue}.mmdiff.ASE.${model}.covarSex.matrix.BSrep_${rep}.txt ]; then\n",
    "            (echo $samples | sed \"s,/n/scratchlfs/hoekstra_lab/akautt/projects/Peromyscus_RNAseq_brain/data/${tissue}/,,g\" | tr \" \" \"\\n\" | \\\n",
    "            awk 'BEGIN{OFS=\" \"; print \"# M; no. of rows = no. of observations\"} \\\n",
    "            /_M_/ {print \"0\"; next} \\\n",
    "            /_F_/ {print \"1\"; next}'\n",
    "            echo $samples | sed \"s,/n/scratchlfs/hoekstra_lab/akautt/projects/Peromyscus_RNAseq_brain/data/${tissue}/,,g\" | tr \" \" \"\\n\" | \\\n",
    "            awk 'BEGIN{OFS=\" \"; print \"# C; no. of rows = no. of observations and no. of columns = 2 (one for each model)\"} \\\n",
    "            (/BW/ && !/F1/) {print \"0\",\"0\"; next} \\\n",
    "            (/PO/ && !/F1/) {print \"1\",\"1\"; next} \\\n",
    "            (/F1/ && /BW/) {print \"2\",\"2\"; next} \\\n",
    "            (/F1/ && /PO/) {print \"3\",\"3\"; next}' \n",
    "            printf '# P0(collapsed); no. of rows = no. of classes for model 0\\n'\n",
    "            printf '%s\\n' \"0.5\"\n",
    "            printf '%s\\n' \"0.5\"\n",
    "            printf '%s\\n' \"-0.5\"   \n",
    "            printf '%s\\n' \"-0.5\"    \n",
    "            printf '# P1(collapsed); no. of rows = no. of classes for model 1\\n'\n",
    "            printf '%s %s\\n' \"0.5\" \"0\"\n",
    "            printf '%s %s\\n' \"0.5\" \"0\"\n",
    "            printf '%s %s\\n' \"-0.5\" \"0.5\"\n",
    "            printf '%s %s\\n' \"-0.5\" \"-0.5\"\n",
    "            ) > $data_dir/MMDIFF/bootstrapping/BSrep_${rep}/${tissue}.mmdiff.ASE.${model}.covarSex.matrix.BSrep_${rep}.txt; fi    \n",
    "                        \n",
    "        \n",
    "        for model in $(echo \"cons_vs_cis cons_vs_trans cons_vs_cistrans cons_vs_comp\")\n",
    "    \n",
    "        do    \n",
    "            if [ ! -f $data_dir/MMDIFF/bootstrapping/BSrep_${rep}/out_mmdiff.${tissue}.ASE.${model}.covarSex.BSrep_${rep}.out ]; then\n",
    "                printf \"$tissue - $model - bootstrap replicate $rep: \"\n",
    "                sbatch -n 1 -c 8 --contiguous --mem=500mb --time=00-06:00 -p hoekstra,shared,general --job-name mmdiff \\\n",
    "                -e $data_dir/MMDIFF/bootstrapping/BSrep_${rep}/out_mmdiff.${tissue}.ASE.${model}.covarSex.BSrep_${rep}.log \\\n",
    "                -o $data_dir/MMDIFF/bootstrapping/BSrep_${rep}/out_mmdiff.${tissue}.ASE.${model}.covarSex.BSrep_${rep}.stdout \\\n",
    "                --wrap=\"OMP_NUM_THREADS=8 $mmseq_dir/mmdiff \\\n",
    "                -burnin 10240 -iter 25600 \\\n",
    "                -m $data_dir/MMDIFF/bootstrapping/BSrep_${rep}/${tissue}.mmdiff.ASE.${model}.covarSex.matrix.BSrep_${rep}.txt \\\n",
    "                $(echo $samples) \\\n",
    "                > $data_dir/MMDIFF/bootstrapping/BSrep_${rep}/out_mmdiff.${tissue}.ASE.${model}.covarSex.BSrep_${rep}.out\"\n",
    "                sleep 1; fi\n",
    "        done        \n",
    "    done\n",
    "done"
   ]
  },
  {
   "cell_type": "markdown",
   "metadata": {},
   "source": [
    "##### Polytomous model comparison"
   ]
  },
  {
   "cell_type": "code",
   "execution_count": null,
   "metadata": {
    "ExecuteTime": {
     "end_time": "2023-08-25T18:01:11.946543Z",
     "start_time": "2023-08-25T18:01:03.025916Z"
    }
   },
   "outputs": [],
   "source": [
    "%load_ext rpy2.ipython"
   ]
  },
  {
   "cell_type": "code",
   "execution_count": null,
   "metadata": {
    "ExecuteTime": {
     "end_time": "2023-08-25T18:19:40.915321Z",
     "start_time": "2023-08-25T18:16:51.862769Z"
    }
   },
   "outputs": [],
   "source": [
    "%%R -i data_dir -o data_dir\n",
    "\n",
    "source(\"/n/home00/akautt/software/mmseq-latest/src/R/mmseq.R\")\n",
    "\n",
    "covar=\".covarSex\"\n",
    "control=\".control\"  # \".control\" | \"\"\n",
    "\n",
    "tissues=c(\"amygdala\",\"cerebellum\",\"hindbrain\",\"hippocampus\",\"hypothalamus\",\"midbrain\",\"mPFC\",\n",
    "          \"septum\",\"striatum\",\"thalamus\")\n",
    "\n",
    "for (tissue in tissues){ \n",
    "\n",
    "    setwd(file.path(paste(data_dir,\"MMDIFF\",sep=\"/\")))\n",
    "    \n",
    "    ### flat prior\n",
    "    \n",
    "    if(!file.exists(paste(\"out_mmdiff.\",tissue,\".ASE\",covar,control,\".prior_flat0.2.poly.out\", sep=\"\"))){\n",
    "    \n",
    "        model_comp <- polyclass(files=c(\n",
    "                          paste(\"out_mmdiff.\",tissue,\".ASE.cons_vs_cis\",covar,control,\".out\",sep=\"\"),\n",
    "                          paste(\"out_mmdiff.\",tissue,\".ASE.cons_vs_trans\",covar,control,\".out\",sep=\"\"),\n",
    "                          paste(\"out_mmdiff.\",tissue,\".ASE.cons_vs_cistrans\",covar,control,\".out\",sep=\"\"),\n",
    "                          paste(\"out_mmdiff.\",tissue,\".ASE.cons_vs_comp\",covar,control,\".out\",sep=\"\")),\n",
    "                          prior=c(0.2,0.2,0.2,0.2,0.2))\n",
    "        \n",
    "        write.table(model_comp, file=paste(\"out_mmdiff.\",tissue,\".ASE\",covar,control,\".prior_flat0.2.poly.out\", sep=\"\"), \n",
    "                    quote=F, col.names=T, row.names=F, sep=\"\\t\")\n",
    "    }\n",
    "}"
   ]
  },
  {
   "cell_type": "code",
   "execution_count": null,
   "metadata": {
    "ExecuteTime": {
     "end_time": "2019-04-20T12:56:28.303060Z",
     "start_time": "2019-04-20T12:45:39.268106Z"
    }
   },
   "outputs": [],
   "source": [
    "%%R -i data_dir -o data_dir\n",
    "\n",
    "### for bootstrap replicates\n",
    "\n",
    "source(\"~/software/mmseq-latest/src/R/mmseq.R\")\n",
    "\n",
    "covar=\".covarSex\"\n",
    "\n",
    "tissues=c(\"cerebellum\",\"mPFC\")\n",
    "\n",
    "for (tissue in tissues){ \n",
    "\n",
    "    for (BSrep in sprintf('%0.3d', 1:10)){\n",
    "    \n",
    "        setwd(file.path(paste(data_dir,\"/MMDIFF\",\"/bootstrapping\",\"/BSrep_\",BSrep, sep=\"\")))\n",
    "        \n",
    "        #### flat prior\n",
    "    \n",
    "        if(!file.exists(paste(\"out_mmdiff.\",tissue,\".ASE\",covar,\".BSrep_\",BSrep,\".prior_flat0.2.poly.out\", sep=\"\"))){\n",
    "            \n",
    "            model_comp <- polyclass(files=c(\n",
    "                      paste(\"out_mmdiff.\",tissue,\".ASE.cons_vs_cis\",covar,\".BSrep_\",BSrep,\".out\",sep=\"\"),\n",
    "                      paste(\"out_mmdiff.\",tissue,\".ASE.cons_vs_trans\",covar,\".BSrep_\",BSrep,\".out\",sep=\"\"),\n",
    "                      paste(\"out_mmdiff.\",tissue,\".ASE.cons_vs_cistrans\",covar,\".BSrep_\",BSrep,\".out\",sep=\"\"),\n",
    "                      paste(\"out_mmdiff.\",tissue,\".ASE.cons_vs_comp\",covar,\".BSrep_\",BSrep,\".out\",sep=\"\")),\n",
    "                      prior=c(0.2,0.2,0.2,0.2,0.2))\n",
    "            \n",
    "            write.table(model_comp, file=paste(\"out_mmdiff.\",tissue,\".ASE\",covar,\".BSrep_\",BSrep,\".prior_flat0.2.poly.out\", sep=\"\"), \n",
    "                        quote=F, col.names=T, row.names=F, sep=\"\\t\")\n",
    "        }\n",
    "    }\n",
    "}"
   ]
  }
 ],
 "metadata": {
  "kernelspec": {
   "display_name": "Python 3 (ipykernel)",
   "language": "python",
   "name": "python3"
  },
  "language_info": {
   "codemirror_mode": {
    "name": "ipython",
    "version": 3
   },
   "file_extension": ".py",
   "mimetype": "text/x-python",
   "name": "python",
   "nbconvert_exporter": "python",
   "pygments_lexer": "ipython3",
   "version": "3.7.3"
  },
  "toc": {
   "base_numbering": 1,
   "nav_menu": {
    "height": "355px",
    "width": "244px"
   },
   "number_sections": true,
   "sideBar": true,
   "skip_h1_title": false,
   "title_cell": "Table of Contents",
   "title_sidebar": "Contents",
   "toc_cell": false,
   "toc_position": {
    "height": "calc(100% - 180px)",
    "left": "10px",
    "top": "150px",
    "width": "286px"
   },
   "toc_section_display": true,
   "toc_window_display": true
  }
 },
 "nbformat": 4,
 "nbformat_minor": 2
}
